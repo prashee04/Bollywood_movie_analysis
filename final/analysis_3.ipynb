{
 "cells": [
  {
   "cell_type": "markdown",
   "metadata": {},
   "source": [
    "Comparison of centrality between male and female"
   ]
  },
  {
   "cell_type": "code",
   "execution_count": 1,
   "metadata": {},
   "outputs": [],
   "source": [
    "import numpy as np\n",
    "import pandas as pd\n",
    "import matplotlib as mpl\n",
    "import matplotlib.pyplot as plt\n",
    "%matplotlib inline"
   ]
  },
  {
   "cell_type": "code",
   "execution_count": 2,
   "metadata": {},
   "outputs": [
    {
     "data": {
      "text/plain": [
       "'c:\\\\Users\\\\harleyquinn\\\\Documents\\\\GitHub\\\\Bollywood_movie_analysis\\\\final'"
      ]
     },
     "execution_count": 2,
     "metadata": {},
     "output_type": "execute_result"
    }
   ],
   "source": [
    "import os\n",
    "os.getcwd()\n"
   ]
  },
  {
   "cell_type": "code",
   "execution_count": 4,
   "metadata": {},
   "outputs": [],
   "source": [
    "os.chdir(\"c:\\\\Users\\\\harleyquinn\\\\Documents\\\\GitHub\\\\Bollywood_movie_analysis\\\\wikipedia-data\")"
   ]
  },
  {
   "cell_type": "code",
   "execution_count": 5,
   "metadata": {},
   "outputs": [],
   "source": [
    "df =pd.read_csv(\"female_centrality.csv\")\n",
    "df2 =pd.read_csv(\"male_centrality.csv\")"
   ]
  },
  {
   "cell_type": "code",
   "execution_count": 6,
   "metadata": {},
   "outputs": [
    {
     "data": {
      "text/html": [
       "<div>\n",
       "<style scoped>\n",
       "    .dataframe tbody tr th:only-of-type {\n",
       "        vertical-align: middle;\n",
       "    }\n",
       "\n",
       "    .dataframe tbody tr th {\n",
       "        vertical-align: top;\n",
       "    }\n",
       "\n",
       "    .dataframe thead th {\n",
       "        text-align: right;\n",
       "    }\n",
       "</style>\n",
       "<table border=\"1\" class=\"dataframe\">\n",
       "  <thead>\n",
       "    <tr style=\"text-align: right;\">\n",
       "      <th></th>\n",
       "      <th>Movie Name</th>\n",
       "      <th>Cast Name</th>\n",
       "      <th>Total Centrality</th>\n",
       "      <th>Average Centrality</th>\n",
       "    </tr>\n",
       "  </thead>\n",
       "  <tbody>\n",
       "    <tr>\n",
       "      <th>0</th>\n",
       "      <td>Aan Milo Sajna</td>\n",
       "      <td>woman</td>\n",
       "      <td>222.500000</td>\n",
       "      <td>18.541667</td>\n",
       "    </tr>\n",
       "    <tr>\n",
       "      <th>1</th>\n",
       "      <td>Aan Milo Sajna</td>\n",
       "      <td>savitri</td>\n",
       "      <td>868.166667</td>\n",
       "      <td>6.627226</td>\n",
       "    </tr>\n",
       "    <tr>\n",
       "      <th>2</th>\n",
       "      <td>Aan Milo Sajna</td>\n",
       "      <td>deepali</td>\n",
       "      <td>0.000000</td>\n",
       "      <td>0.000000</td>\n",
       "    </tr>\n",
       "    <tr>\n",
       "      <th>3</th>\n",
       "      <td>Abhinetri</td>\n",
       "      <td>anjana</td>\n",
       "      <td>319.000000</td>\n",
       "      <td>4.037975</td>\n",
       "    </tr>\n",
       "    <tr>\n",
       "      <th>4</th>\n",
       "      <td>Aag Aur Shola</td>\n",
       "      <td>usha</td>\n",
       "      <td>48.000000</td>\n",
       "      <td>0.888889</td>\n",
       "    </tr>\n",
       "  </tbody>\n",
       "</table>\n",
       "</div>"
      ],
      "text/plain": [
       "       Movie Name Cast Name  Total Centrality  Average Centrality\n",
       "0  Aan Milo Sajna     woman        222.500000           18.541667\n",
       "1  Aan Milo Sajna   savitri        868.166667            6.627226\n",
       "2  Aan Milo Sajna   deepali          0.000000            0.000000\n",
       "3       Abhinetri    anjana        319.000000            4.037975\n",
       "4   Aag Aur Shola      usha         48.000000            0.888889"
      ]
     },
     "execution_count": 6,
     "metadata": {},
     "output_type": "execute_result"
    }
   ],
   "source": [
    "df.head()"
   ]
  },
  {
   "cell_type": "code",
   "execution_count": 7,
   "metadata": {},
   "outputs": [
    {
     "data": {
      "text/plain": [
       "Movie Name                      <class 'str'>\n",
       "Cast Name                       <class 'str'>\n",
       "Total Centrality      <class 'numpy.float64'>\n",
       "Average Centrality    <class 'numpy.float64'>\n",
       "Name: 0, dtype: object"
      ]
     },
     "execution_count": 7,
     "metadata": {},
     "output_type": "execute_result"
    }
   ],
   "source": [
    "df.iloc[0].apply(type)"
   ]
  },
  {
   "cell_type": "code",
   "execution_count": 8,
   "metadata": {},
   "outputs": [],
   "source": [
    "df=df.fillna(0)"
   ]
  },
  {
   "cell_type": "code",
   "execution_count": 9,
   "metadata": {},
   "outputs": [
    {
     "data": {
      "text/html": [
       "<div>\n",
       "<style scoped>\n",
       "    .dataframe tbody tr th:only-of-type {\n",
       "        vertical-align: middle;\n",
       "    }\n",
       "\n",
       "    .dataframe tbody tr th {\n",
       "        vertical-align: top;\n",
       "    }\n",
       "\n",
       "    .dataframe thead th {\n",
       "        text-align: right;\n",
       "    }\n",
       "</style>\n",
       "<table border=\"1\" class=\"dataframe\">\n",
       "  <thead>\n",
       "    <tr style=\"text-align: right;\">\n",
       "      <th></th>\n",
       "      <th>Movie Name</th>\n",
       "      <th>Cast Name</th>\n",
       "      <th>Total Centrality</th>\n",
       "      <th>Average Centrality</th>\n",
       "    </tr>\n",
       "  </thead>\n",
       "  <tbody>\n",
       "    <tr>\n",
       "      <th>0</th>\n",
       "      <td>Aan Milo Sajna</td>\n",
       "      <td>woman</td>\n",
       "      <td>222.500000</td>\n",
       "      <td>18.541667</td>\n",
       "    </tr>\n",
       "    <tr>\n",
       "      <th>1</th>\n",
       "      <td>Aan Milo Sajna</td>\n",
       "      <td>savitri</td>\n",
       "      <td>868.166667</td>\n",
       "      <td>6.627226</td>\n",
       "    </tr>\n",
       "    <tr>\n",
       "      <th>2</th>\n",
       "      <td>Aan Milo Sajna</td>\n",
       "      <td>deepali</td>\n",
       "      <td>0.000000</td>\n",
       "      <td>0.000000</td>\n",
       "    </tr>\n",
       "    <tr>\n",
       "      <th>3</th>\n",
       "      <td>Abhinetri</td>\n",
       "      <td>anjana</td>\n",
       "      <td>319.000000</td>\n",
       "      <td>4.037975</td>\n",
       "    </tr>\n",
       "    <tr>\n",
       "      <th>4</th>\n",
       "      <td>Aag Aur Shola</td>\n",
       "      <td>usha</td>\n",
       "      <td>48.000000</td>\n",
       "      <td>0.888889</td>\n",
       "    </tr>\n",
       "    <tr>\n",
       "      <th>...</th>\n",
       "      <td>...</td>\n",
       "      <td>...</td>\n",
       "      <td>...</td>\n",
       "      <td>...</td>\n",
       "    </tr>\n",
       "    <tr>\n",
       "      <th>5043</th>\n",
       "      <td>Rab Ne Bana Di Jodi</td>\n",
       "      <td>daughter</td>\n",
       "      <td>243.000000</td>\n",
       "      <td>12.789474</td>\n",
       "    </tr>\n",
       "    <tr>\n",
       "      <th>5044</th>\n",
       "      <td>Rab Ne Bana Di Jodi</td>\n",
       "      <td>taani</td>\n",
       "      <td>6975.333333</td>\n",
       "      <td>11.703579</td>\n",
       "    </tr>\n",
       "    <tr>\n",
       "      <th>5045</th>\n",
       "      <td>Ghajini</td>\n",
       "      <td>sunita</td>\n",
       "      <td>565.500000</td>\n",
       "      <td>2.336777</td>\n",
       "    </tr>\n",
       "    <tr>\n",
       "      <th>5046</th>\n",
       "      <td>Ghajini</td>\n",
       "      <td>kalpana</td>\n",
       "      <td>624.166667</td>\n",
       "      <td>3.337790</td>\n",
       "    </tr>\n",
       "    <tr>\n",
       "      <th>5047</th>\n",
       "      <td>Jumbo</td>\n",
       "      <td>mother</td>\n",
       "      <td>116.833333</td>\n",
       "      <td>1.947222</td>\n",
       "    </tr>\n",
       "  </tbody>\n",
       "</table>\n",
       "<p>5048 rows × 4 columns</p>\n",
       "</div>"
      ],
      "text/plain": [
       "               Movie Name Cast Name  Total Centrality  Average Centrality\n",
       "0          Aan Milo Sajna     woman        222.500000           18.541667\n",
       "1          Aan Milo Sajna   savitri        868.166667            6.627226\n",
       "2          Aan Milo Sajna   deepali          0.000000            0.000000\n",
       "3               Abhinetri    anjana        319.000000            4.037975\n",
       "4           Aag Aur Shola      usha         48.000000            0.888889\n",
       "...                   ...       ...               ...                 ...\n",
       "5043  Rab Ne Bana Di Jodi  daughter        243.000000           12.789474\n",
       "5044  Rab Ne Bana Di Jodi     taani       6975.333333           11.703579\n",
       "5045              Ghajini    sunita        565.500000            2.336777\n",
       "5046              Ghajini   kalpana        624.166667            3.337790\n",
       "5047                Jumbo    mother        116.833333            1.947222\n",
       "\n",
       "[5048 rows x 4 columns]"
      ]
     },
     "execution_count": 9,
     "metadata": {},
     "output_type": "execute_result"
    }
   ],
   "source": [
    "df"
   ]
  },
  {
   "cell_type": "code",
   "execution_count": 10,
   "metadata": {},
   "outputs": [],
   "source": [
    "import datacompy"
   ]
  },
  {
   "cell_type": "code",
   "execution_count": 11,
   "metadata": {},
   "outputs": [],
   "source": [
    "campare = datacompy.Compare(df,df2,join_columns=\"Movie Name\")"
   ]
  },
  {
   "cell_type": "code",
   "execution_count": 12,
   "metadata": {},
   "outputs": [
    {
     "name": "stdout",
     "output_type": "stream",
     "text": [
      "DataComPy Comparison\n",
      "--------------------\n",
      "\n",
      "DataFrame Summary\n",
      "-----------------\n",
      "\n",
      "  DataFrame  Columns  Rows\n",
      "0       df1        4  5048\n",
      "1       df2        4  9353\n",
      "\n",
      "Column Summary\n",
      "--------------\n",
      "\n",
      "Number of columns in common: 4\n",
      "Number of columns in df1 but not in df2: 0\n",
      "Number of columns in df2 but not in df1: 0\n",
      "\n",
      "Row Summary\n",
      "-----------\n",
      "\n",
      "Matched on: movie name\n",
      "Any duplicates on match values: Yes\n",
      "Absolute Tolerance: 0\n",
      "Relative Tolerance: 0\n",
      "Number of rows in common: 4,244\n",
      "Number of rows in df1 but not in df2: 804\n",
      "Number of rows in df2 but not in df1: 5,109\n",
      "\n",
      "Number of rows with some compared columns unequal: 4,244\n",
      "Number of rows with all compared columns equal: 0\n",
      "\n",
      "Column Comparison\n",
      "-----------------\n",
      "\n",
      "Number of columns compared with some values unequal: 3\n",
      "Number of columns compared with all values equal: 1\n",
      "Total number of values which compare unequal: 12,507\n",
      "\n",
      "Columns with Unequal Values or Types\n",
      "------------------------------------\n",
      "\n",
      "               Column df1 dtype df2 dtype  # Unequal      Max Diff  # Null Diff\n",
      "2  average centrality   float64   float64       4132    277.065101            3\n",
      "0           cast name    object    object       4244      0.000000           44\n",
      "1    total centrality   float64   float64       4131  36040.433333            3\n",
      "\n",
      "Sample Rows with Unequal Values\n",
      "-------------------------------\n",
      "\n",
      "                     movie name cast name (df1) cast name (df2)\n",
      "3378                 Major Saab           nisha          jasbir\n",
      "972    Zindagi Na Milegi Dobara         natasha          imraan\n",
      "4838               Mumbai Salsa         zenobia           karan\n",
      "2537                    Veerana           witch          chotte\n",
      "2858          Shola Aur Shabnam           divya            kali\n",
      "848                       Alaap           gupta          prasad\n",
      "750   Chal Pichchur Banate Hain              he             boy\n",
      "2265      Wanted: Dead or Alive          angela          vikram\n",
      "1158                        Don             dsp             don\n",
      "4906                     Sunday            ritu             son\n",
      "\n",
      "                          movie name  total centrality (df1)  total centrality (df2)\n",
      "429                            Ankur              529.500000              198.666667\n",
      "3926                     Agni Varsha             1191.466667               61.000000\n",
      "2119                           Arpan              118.000000               32.000000\n",
      "2234                          Maqsad              330.666667               84.000000\n",
      "4731                           Aggar              314.500000               34.000000\n",
      "2758                            Beta              550.000000              397.500000\n",
      "2634                 Kishen Kanhaiya              184.000000               35.000000\n",
      "1577                    Purani Jeans              282.666667              306.500000\n",
      "1451                        Tum Mile              383.500000              421.500000\n",
      "3907  Tum Bin - Love Will Find a Way              335.000000              132.000000\n",
      "\n",
      "                 movie name  average centrality (df1)  average centrality (df2)\n",
      "3777               Brothers                  2.500000                  1.734375\n",
      "3253                 Dangal                  0.000000                  1.500000\n",
      "23            Anokha Rishta                  0.000000                  6.381025\n",
      "1675               Red Rose                  0.000000                 16.244213\n",
      "302                   Bobby                  6.636364                  1.400000\n",
      "1544                Lakshmi                 16.566667                 12.164319\n",
      "3999  Maine Dil Tujhko Diya                  0.000000                  2.411765\n",
      "1608  Lekar Hum Deewana Dil                  2.258333                 15.609025\n",
      "517          Ishq Ishq Ishq                  5.388889                  1.049383\n",
      "4451                 Kalyug                 17.725601                  2.650000\n",
      "\n",
      "Sample Rows Only in df1 (First 10 Columns)\n",
      "------------------------------------------\n",
      "\n",
      "                       movie name cast name  total centrality  average centrality\n",
      "1132            Mittal v/s Mittal     karan        382.000000            3.056000\n",
      "2240                  Meri Adalat    zeenat          0.000000            0.000000\n",
      "3736    Chori Chori Chupke Chupke     madhu        811.250000            3.072917\n",
      "4973            Bachna Ae Haseeno      girl        920.833333           18.055556\n",
      "3155         Saajan Chale Sasural     pooja        222.000000            7.655172\n",
      "4561                      Ankahee    sheena       4062.983333           18.637538\n",
      "4507  Pehchaan: The Face of Truth     swati        140.000000            1.728395\n",
      "403                         Naina     naina          0.000000            0.000000\n",
      "2819                    Nishchaiy  daughter         18.000000            2.000000\n",
      "3680             Ishq Ke Parindey      girl         94.000000            6.714286\n",
      "\n",
      "Sample Rows Only in df2 (First 10 Columns)\n",
      "------------------------------------------\n",
      "\n",
      "                 movie name cast name  total centrality  average centrality\n",
      "9382               Asambhav   youssan         67.000000            1.080645\n",
      "7967              Vishwatma     akash          0.000000            0.000000\n",
      "6470             Bang Bang!       the          0.000000            0.000000\n",
      "9330         Mumbai Matinee      debu       1688.333333           17.771930\n",
      "5821       Jab Tak Hai Jaan       man        106.000000            3.312500\n",
      "8145      Ghayal Once Again  kriplani          0.000000            0.000000\n",
      "9437    Kyun...! Ho Gaya Na       son         21.000000            5.250000\n",
      "7869          Dil Hi To Hai       the         57.000000            0.495652\n",
      "6281  Toonpur Ka Super Hero     bolly          0.000000            0.000000\n",
      "6367         Kambakkht Ishq       man          0.000000            0.000000\n",
      "\n",
      "\n"
     ]
    }
   ],
   "source": [
    "print(campare.report())"
   ]
  },
  {
   "cell_type": "code",
   "execution_count": 13,
   "metadata": {},
   "outputs": [
    {
     "name": "stdout",
     "output_type": "stream",
     "text": [
      "<class 'pandas.core.frame.DataFrame'>\n",
      "RangeIndex: 5048 entries, 0 to 5047\n",
      "Data columns (total 4 columns):\n",
      " #   Column              Non-Null Count  Dtype  \n",
      "---  ------              --------------  -----  \n",
      " 0   movie name          5048 non-null   object \n",
      " 1   cast name           5048 non-null   object \n",
      " 2   total centrality    5048 non-null   float64\n",
      " 3   average centrality  5048 non-null   float64\n",
      "dtypes: float64(2), object(2)\n",
      "memory usage: 157.9+ KB\n"
     ]
    }
   ],
   "source": [
    "df.info()"
   ]
  },
  {
   "cell_type": "code",
   "execution_count": 15,
   "metadata": {},
   "outputs": [
    {
     "data": {
      "image/png": "[encoded data removed]",
      "text/plain": [
       "<Figure size 432x288 with 1 Axes>"
      ]
     },
     "metadata": {
      "needs_background": "light"
     },
     "output_type": "display_data"
    }
   ],
   "source": [
    "df.plot(kind = \"bar\", x = 'average centrality', y = 'total centrality')\n",
    "plt.show()"
   ]
  },
  {
   "cell_type": "code",
   "execution_count": 16,
   "metadata": {},
   "outputs": [
    {
     "data": {
      "image/png": "[encoded data removed]",
      "text/plain": [
       "<Figure size 432x288 with 1 Axes>"
      ]
     },
     "metadata": {
      "needs_background": "light"
     },
     "output_type": "display_data"
    },
    {
     "data": {
      "image/png": "[encoded data removed]",
      "text/plain": [
       "<Figure size 432x288 with 1 Axes>"
      ]
     },
     "metadata": {
      "needs_background": "light"
     },
     "output_type": "display_data"
    }
   ],
   "source": [
    "df.plot(kind = \"hist\", x = 'average centrality')\n",
    "df2.plot(kind = \"hist\", x = 'average centrality')\n",
    "plt.show()"
   ]
  }
 ],
 "metadata": {
  "kernelspec": {
   "display_name": "Python 3.10.4 64-bit",
   "language": "python",
   "name": "python3"
  },
  "language_info": {
   "codemirror_mode": {
    "name": "ipython",
    "version": 3
   },
   "file_extension": ".py",
   "mimetype": "text/x-python",
   "name": "python",
   "nbconvert_exporter": "python",
   "pygments_lexer": "ipython3",
   "version": "3.10.7"
  },
  "orig_nbformat": 4,
  "vscode": {
   "interpreter": {
    "hash": "7eba179febd1df339962bc2278d8f1d5abecbc8e4bab0c957b2dbac0d3b4983e"
   }
  }
 },
 "nbformat": 4,
 "nbformat_minor": 2
}
