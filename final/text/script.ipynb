{
 "cells": [
  {
   "cell_type": "code",
   "execution_count": 1,
   "metadata": {},
   "outputs": [],
   "source": [
    "import nltk\n",
    "import random\n",
    "import pandas as pd\n",
    "import numpy as np\n"
   ]
  },
  {
   "cell_type": "code",
   "execution_count": 2,
   "metadata": {},
   "outputs": [
    {
     "name": "stdout",
     "output_type": "stream",
     "text": [
      "Sample Male Names:-    ['Aamir', 'Aaron', 'Abbey', 'Abbie', 'Abbot']\n",
      "Sample Female Names:-  ['Abagael', 'Abagail', 'Abbe', 'Abbey', 'Abbi']\n"
     ]
    }
   ],
   "source": [
    "from nltk.corpus import names\n",
    "\n",
    "\n",
    "Male_Names = names.words('male.txt')\n",
    "Female_Names = names.words('female.txt')\n",
    "\n",
    "\n",
    "print('Sample Male Names:-   ',Male_Names[0:5])\n",
    "print('Sample Female Names:- ',Female_Names[0:5])"
   ]
  },
  {
   "cell_type": "code",
   "execution_count": 3,
   "metadata": {},
   "outputs": [
    {
     "name": "stdout",
     "output_type": "stream",
     "text": [
      "[('Aamir', 'male'), ('Aaron', 'male'), ('Abbey', 'male'), ('Abbie', 'male'), ('Abbot', 'male')] \n",
      "\n",
      "[('Zorine', 'female'), ('Zsa Zsa', 'female'), ('Zsazsa', 'female'), ('Zulema', 'female'), ('Zuzana', 'female')]\n",
      "\n",
      " #### Suffled names:-\n"
     ]
    },
    {
     "data": {
      "text/plain": [
       "[('Constancia', 'female'),\n",
       " ('Dennie', 'female'),\n",
       " ('Lidia', 'female'),\n",
       " ('Donald', 'male'),\n",
       " ('Abelard', 'male')]"
      ]
     },
     "execution_count": 3,
     "metadata": {},
     "output_type": "execute_result"
    }
   ],
   "source": [
    "Name_List = [(Name , 'male') for Name in Male_Names] + [(Name , 'female') for Name in Female_Names]\n",
    "\n",
    "\n",
    "print(Name_List[:5],'\\n')\n",
    "print(Name_List[-5:])\n",
    "\n",
    "random.shuffle(Name_List)\n",
    "\n",
    "\n",
    "print('\\n #### Suffled names:-')\n",
    "Name_List[-5:]"
   ]
  },
  {
   "cell_type": "code",
   "execution_count": 4,
   "metadata": {},
   "outputs": [
    {
     "data": {
      "text/plain": [
       "[({'last_char': 'o',\n",
       "   'last_two_char': 'io',\n",
       "   'last_three_char': 'cio',\n",
       "   'first_char': 'P',\n",
       "   'first_two_char': 'Pa',\n",
       "   'first_three_char': 'Pat'},\n",
       "  'male')]"
      ]
     },
     "execution_count": 4,
     "metadata": {},
     "output_type": "execute_result"
    }
   ],
   "source": [
    "def Name_Feature (name):\n",
    "    return {\n",
    "        'last_char': name[-1],\n",
    "        'last_two_char': name[-2:],\n",
    "        'last_three_char': name[-3:],\n",
    "        'first_char': name[0],\n",
    "        'first_two_char': name[:2],\n",
    "        'first_three_char': name[:3]\n",
    "    }\n",
    "\n",
    "features = [ (Name_Feature(name= NAME), Gender) for (NAME, Gender) in Name_List ]\n",
    "features[:1]"
   ]
  },
  {
   "cell_type": "code",
   "execution_count": 5,
   "metadata": {},
   "outputs": [
    {
     "name": "stdout",
     "output_type": "stream",
     "text": [
      "5561\n",
      "2383\n"
     ]
    }
   ],
   "source": [
    "Training_Set = features[ :round(len(features) * .7)]\n",
    "Testing_Set = features[round(len(features) * .7): ]\n",
    "\n",
    "print(len(Training_Set))\n",
    "print(len(Testing_Set))"
   ]
  },
  {
   "cell_type": "code",
   "execution_count": 6,
   "metadata": {},
   "outputs": [],
   "source": [
    "classifier = nltk.NaiveBayesClassifier.train(Training_Set)"
   ]
  },
  {
   "cell_type": "code",
   "execution_count": 7,
   "metadata": {},
   "outputs": [
    {
     "data": {
      "text/plain": [
       "82.54"
      ]
     },
     "execution_count": 7,
     "metadata": {},
     "output_type": "execute_result"
    }
   ],
   "source": [
    "round(nltk.classify.accuracy(classifier , Testing_Set) * 100, 2)"
   ]
  },
  {
   "cell_type": "code",
   "execution_count": 8,
   "metadata": {},
   "outputs": [],
   "source": [
    "Final_Classifier_Model = nltk.NaiveBayesClassifier.train(features)"
   ]
  },
  {
   "cell_type": "code",
   "execution_count": 9,
   "metadata": {},
   "outputs": [
    {
     "name": "stdout",
     "output_type": "stream",
     "text": [
      "pickle file of Predictive Model is saved at Location: c:\\Users\\harleyquinn\\Documents\\GitHub\\Bollywood_movie_analysis\\final\\text\n"
     ]
    }
   ],
   "source": [
    "import pickle\n",
    "import os\n",
    "\n",
    "with open('Final_Classifier_Model.pkl', 'wb') as fileWriteStream:\n",
    "    pickle.dump(Final_Classifier_Model, fileWriteStream)\n",
    "    fileWriteStream.close()\n",
    "    \n",
    "print('pickle file of Predictive Model is saved at Location:',os.getcwd())"
   ]
  },
  {
   "cell_type": "code",
   "execution_count": 10,
   "metadata": {},
   "outputs": [],
   "source": [
    "def Identify_Person_Gender(Text):\n",
    "    import re\n",
    "    import pandas as pd\n",
    "    import nltk\n",
    "    from nltk.tokenize import word_tokenize, sent_tokenize\n",
    "\n",
    "    import pickle\n",
    "    with open('Final_Classifier_Model.pkl', 'rb') as fileReadStream:\n",
    "        Prediction_Model=pickle.load(fileReadStream)\n",
    "        fileReadStream.close() \n",
    "        \n",
    "    Final_Name= []\n",
    "    Final_Gender= []\n",
    "\n",
    "    Sent_List = sent_tokenize(Text.title())\n",
    "\n",
    "    for sent in Sent_List:\n",
    "        word_list = word_tokenize(sent)\n",
    "\n",
    "        pos_tags = nltk.pos_tag(word_list)\n",
    "\n",
    "        Person_Name= [name[0] for name in pos_tags if name[1] in ['NNP','NN']]\n",
    "        Person_Name= re.sub(r'[^a-z A-Z . ,]',r'',str(Person_Name))\n",
    "\n",
    "        Person_Name_feature= {  'last_char': Person_Name[-1],\n",
    "                                'last_two_char': Person_Name[-2:],\n",
    "                                'last_three_char': Person_Name[-3:],\n",
    "                                'first_char': Person_Name[0],\n",
    "                                'first_two_char': Person_Name[:2],\n",
    "                                'first_three_char': Person_Name[:3] \n",
    "                             }\n",
    "\n",
    "        Gender_Prediction=Prediction_Model.classify(Person_Name_feature)\n",
    "        \n",
    "        Final_Name.append(Person_Name)\n",
    "        Final_Gender.append(Gender_Prediction)        \n",
    "    \n",
    "    prediction_result= pd.DataFrame({'Name':Final_Name, 'Gender': Final_Gender})\n",
    "\n",
    "    return(prediction_result)\n",
    "    "
   ]
  },
  {
   "cell_type": "code",
   "execution_count": 11,
   "metadata": {},
   "outputs": [],
   "source": [
    "text = \"\"\"Arun Neelakandan, a teenager from Kerala, joins KC Tech, a popular engineering college in Chennai for his graduation. He falls in love with college sweetheart Darshana at the first sight. They grow closer after Arun is ragged by his seniors, but a few scuffles and incidents get the seniors suspended and they start dating. Arun accompanies his friend Antony to meet his online girlfriend, and feels attracted to her colleague. He lies to her, states he is single and they lean in for a kiss but they are interrupted by moral police. A guilt-ridden Arun confesses to Darshana, who lividly calls off the relationship. In the heat of their argument, they challenge each other that they will have other romantic partners better than each other.\n",
    "\n",
    "Arun's life goes downhill after the breakup. He takes to ragging juniors and thrashing up other people and outsiders in his second year and is addicted to alcohol. He begins a relationship with Maya but doesn't find himself happy. Meanwhile, Darshana starts dating Kedar, a womanizer. He warns Darshana but she ignores it as a sign of jealousy. However, Arun is proven right and Darshana slaps Kedar. Kedar threatens to spread rumours about her, and her friend convey this to and Arun beats Kedar up and silences him. At home, Arun's parents notice something is wrong with their son. His father advices him to quit alcohol and turn over a new leaf in his life.\n",
    "\n",
    "Arun moves out of his shared hostel room to a more peaceful atmosphere. He joins their classmate Selva's coaching classes along with Antony and they soon rebound in academics, with Arun being fifth in class, and both clearing many of their supplies. Later, Darshana too joins Selva's coaching class and finds herself liking the newly changed Arun. Selva dies in a bus accident and everyone in his class is grief-stricken. Maya calls off her relationship with Arun after her father's death, realizing that Arun does not love her but only wanted her to make Darshana jealous. On the last day of college, all students are led into a room called \"the secret alley,\" (which was shown in their first year and they learned that only the final year students can see what it is on their final day) where they leave a message for the next batch of students. However, Arun finds himself unable to write anything. Darshana, who accompanies Arun to his train, asks him if they would have still been together if not for the argument four years ago. He does not have an answer.\n",
    "\n",
    "After graduation, Arun gets a job in a campus interview. Two years later, Arun feels dissatisfied with his job and leaves it. Darshana, now a YouTube vlogger, advises him to pursue his dreams. On a bus journey, he meets Jimmy, a wedding photographer who is in need of a partner, drags him to photography. Arun decides that they should be a company that specialises in intimate weddings since no such brand currently exists in Kerala. He gets their company a shoutout from Prateek Tiwari, his batchmate at KC Tech who, is now a popular Bollywood singer. After the shoutout, they get lots of bookings and enquiries and they become famous and Arun now feels satisfied with what he is doing.\n",
    "\n",
    "During one of such weddings, Arun sees Nithya Balagopal and feels instantly attracted to her. Impressed with his photographs, Nithya recommends Arun to her cousin, who is about to be married. However, Arun discovers that the groom is Kedar and exposes his character to Nithya. The wedding is called off and Nithya is grateful to Arun for saving her cousin's life. They grow closer and Nithya accompanies Arun to Chennai, for a wedding and back to the terrace where Selva held his coaching classes, but unfortunately now locked up after arrival of new tenants.\n",
    "\n",
    "With their parents' approval, Nithya and Arun fix their marriage. Darshana attends the wedding reception but finds herself unable to come to terms with the fact Arun can no longer be hers and leaves in tears. Arun and Nithya get married and live happily thereafter. Three years later, Nithya gives birth to a baby boy. A joyous Arun feels like telling Darshana the news first.\n",
    "\n",
    "Darshana's marriage is fixed, and Arun and Nitya along with their son go to her place for the same, but Darshana, who still has feelings for Arun, acts too close around him, which irks Nithya. That night, she calls her to meet at the same place they confessed to each other, the beach. Arun tries to secretly leave but Nithya wakes up and he lies to her saying that they have a bachelorette party for her and leaves. But Arun feels guilty and goes to the room to find Nithya in a sad state realising that he lied. He confesses that he is going to meet Darshana. She allows him and she goes back to sleep peacefully. Darshana, who is due to get married the next day, expresses her reservations about marriage to Arun, and asks him once again if they would have still been together were it not for the argument. Arun tells her to stop thinking about the what-ifs and look forward to her future and they tearfully embrace. Darshana gets married.\n",
    "\n",
    "While in Chennai, Arun takes a detour to KC Tech and gets the key to the secret alley. He writes a thank you note to the college for making him who he is and exits the campus, where he, Nithya and their son return home.\"\"\""
   ]
  },
  {
   "cell_type": "code",
   "execution_count": 12,
   "metadata": {},
   "outputs": [
    {
     "data": {
      "text/html": [
       "<div>\n",
       "<style scoped>\n",
       "    .dataframe tbody tr th:only-of-type {\n",
       "        vertical-align: middle;\n",
       "    }\n",
       "\n",
       "    .dataframe tbody tr th {\n",
       "        vertical-align: top;\n",
       "    }\n",
       "\n",
       "    .dataframe thead th {\n",
       "        text-align: right;\n",
       "    }\n",
       "</style>\n",
       "<table border=\"1\" class=\"dataframe\">\n",
       "  <thead>\n",
       "    <tr style=\"text-align: right;\">\n",
       "      <th></th>\n",
       "      <th>Name</th>\n",
       "      <th>Gender</th>\n",
       "    </tr>\n",
       "  </thead>\n",
       "  <tbody>\n",
       "    <tr>\n",
       "      <th>0</th>\n",
       "      <td>Arun, Neelakandan, A, Teenager, From, Kerala, ...</td>\n",
       "      <td>male</td>\n",
       "    </tr>\n",
       "    <tr>\n",
       "      <th>1</th>\n",
       "      <td>Love, College, Sweetheart, Darshana, First, Sight</td>\n",
       "      <td>male</td>\n",
       "    </tr>\n",
       "    <tr>\n",
       "      <th>2</th>\n",
       "      <td>Arun, Is, A, Few, Scuffles, Incidents, Seniors...</td>\n",
       "      <td>male</td>\n",
       "    </tr>\n",
       "    <tr>\n",
       "      <th>3</th>\n",
       "      <td>Arun, Friend, Antony, Online, Girlfriend, Feel...</td>\n",
       "      <td>male</td>\n",
       "    </tr>\n",
       "    <tr>\n",
       "      <th>4</th>\n",
       "      <td>Her, States, Single, A, Kiss, Moral, Police</td>\n",
       "      <td>male</td>\n",
       "    </tr>\n",
       "    <tr>\n",
       "      <th>5</th>\n",
       "      <td>Arun, Darshana, Who, Lividly, Calls, Relationship</td>\n",
       "      <td>male</td>\n",
       "    </tr>\n",
       "    <tr>\n",
       "      <th>6</th>\n",
       "      <td>Heat, Their, Argument, Than</td>\n",
       "      <td>male</td>\n",
       "    </tr>\n",
       "    <tr>\n",
       "      <th>7</th>\n",
       "      <td>Arun, Life, Goes, Downhill, Breakup</td>\n",
       "      <td>male</td>\n",
       "    </tr>\n",
       "    <tr>\n",
       "      <th>8</th>\n",
       "      <td>Year, Is, Addicted, Alcohol</td>\n",
       "      <td>female</td>\n",
       "    </tr>\n",
       "    <tr>\n",
       "      <th>9</th>\n",
       "      <td>Relationship, Maya, DoesnT, Find, Himself, Happy</td>\n",
       "      <td>male</td>\n",
       "    </tr>\n",
       "    <tr>\n",
       "      <th>10</th>\n",
       "      <td>Darshana, Starts, Dating, Kedar, A, Womanizer</td>\n",
       "      <td>male</td>\n",
       "    </tr>\n",
       "    <tr>\n",
       "      <th>11</th>\n",
       "      <td>Darshana, A, Sign, Jealousy</td>\n",
       "      <td>female</td>\n",
       "    </tr>\n",
       "    <tr>\n",
       "      <th>12</th>\n",
       "      <td>Arun, Is, Proven, Right, Darshana, Slaps, Kedar</td>\n",
       "      <td>male</td>\n",
       "    </tr>\n",
       "    <tr>\n",
       "      <th>13</th>\n",
       "      <td>Kedar, Threatens, Rumours, Her, Friend, Convey...</td>\n",
       "      <td>male</td>\n",
       "    </tr>\n",
       "    <tr>\n",
       "      <th>14</th>\n",
       "      <td>Home, Arun, Parents, Notice, Something, Their,...</td>\n",
       "      <td>male</td>\n",
       "    </tr>\n",
       "    <tr>\n",
       "      <th>15</th>\n",
       "      <td>Father, Him, Quit, Alcohol, Turn, Over, A, New...</td>\n",
       "      <td>male</td>\n",
       "    </tr>\n",
       "    <tr>\n",
       "      <th>16</th>\n",
       "      <td>Arun, Out, Shared, Hostel, Room, A, More, Peac...</td>\n",
       "      <td>female</td>\n",
       "    </tr>\n",
       "    <tr>\n",
       "      <th>17</th>\n",
       "      <td>Classmate, Selva, Coaching, Antony, Rebound, A...</td>\n",
       "      <td>male</td>\n",
       "    </tr>\n",
       "    <tr>\n",
       "      <th>18</th>\n",
       "      <td>Darshana, Too, Joins, Selva, Coaching, Class, ...</td>\n",
       "      <td>male</td>\n",
       "    </tr>\n",
       "    <tr>\n",
       "      <th>19</th>\n",
       "      <td>Selva, A, Bus, Accident, Everyone, Class, Grie...</td>\n",
       "      <td>male</td>\n",
       "    </tr>\n",
       "    <tr>\n",
       "      <th>20</th>\n",
       "      <td>Maya, Calls, Off, Relationship, Arun, Father, ...</td>\n",
       "      <td>male</td>\n",
       "    </tr>\n",
       "    <tr>\n",
       "      <th>21</th>\n",
       "      <td>Day, College, Led, Into, A, Room, Called, Secr...</td>\n",
       "      <td>male</td>\n",
       "    </tr>\n",
       "    <tr>\n",
       "      <th>22</th>\n",
       "      <td>Arun, Himself, Unable, Anything</td>\n",
       "      <td>male</td>\n",
       "    </tr>\n",
       "    <tr>\n",
       "      <th>23</th>\n",
       "      <td>Darshana, Who, Arun, Train, Asks, Him, Been, T...</td>\n",
       "      <td>male</td>\n",
       "    </tr>\n",
       "    <tr>\n",
       "      <th>24</th>\n",
       "      <td>Answer</td>\n",
       "      <td>male</td>\n",
       "    </tr>\n",
       "    <tr>\n",
       "      <th>25</th>\n",
       "      <td>Graduation, Arun, Job, A, Campus, Interview</td>\n",
       "      <td>male</td>\n",
       "    </tr>\n",
       "    <tr>\n",
       "      <th>26</th>\n",
       "      <td>Arun, Feels, Dissatisfied, Job</td>\n",
       "      <td>male</td>\n",
       "    </tr>\n",
       "    <tr>\n",
       "      <th>27</th>\n",
       "      <td>Darshana, Youtube, Vlogger, Him, Dreams</td>\n",
       "      <td>male</td>\n",
       "    </tr>\n",
       "    <tr>\n",
       "      <th>28</th>\n",
       "      <td>A, Bus, Journey, Jimmy, A, Wedding, Photograph...</td>\n",
       "      <td>male</td>\n",
       "    </tr>\n",
       "    <tr>\n",
       "      <th>29</th>\n",
       "      <td>Arun, Company, Intimate, Weddings, No, Such, B...</td>\n",
       "      <td>female</td>\n",
       "    </tr>\n",
       "    <tr>\n",
       "      <th>30</th>\n",
       "      <td>Company, Shoutout, Prateek, Tiwari, Batchmate,...</td>\n",
       "      <td>male</td>\n",
       "    </tr>\n",
       "    <tr>\n",
       "      <th>31</th>\n",
       "      <td>Shoutout, Lots, Bookings, Arun, Feels, Satisfied</td>\n",
       "      <td>male</td>\n",
       "    </tr>\n",
       "    <tr>\n",
       "      <th>32</th>\n",
       "      <td>Arun, Sees, Nithya, Balagopal, Feels, Instantl...</td>\n",
       "      <td>male</td>\n",
       "    </tr>\n",
       "    <tr>\n",
       "      <th>33</th>\n",
       "      <td>Photographs, Nithya, Recommends, Arun, Her, Co...</td>\n",
       "      <td>male</td>\n",
       "    </tr>\n",
       "    <tr>\n",
       "      <th>34</th>\n",
       "      <td>Arun, Discovers, Groom, Is, Kedar, Exposes, Ch...</td>\n",
       "      <td>female</td>\n",
       "    </tr>\n",
       "    <tr>\n",
       "      <th>35</th>\n",
       "      <td>Wedding, Is, Off, Nithya, Is, Grateful, Arun, ...</td>\n",
       "      <td>male</td>\n",
       "    </tr>\n",
       "    <tr>\n",
       "      <th>36</th>\n",
       "      <td>Closer, Nithya, Accompanies, Arun, Chennai, We...</td>\n",
       "      <td>male</td>\n",
       "    </tr>\n",
       "    <tr>\n",
       "      <th>37</th>\n",
       "      <td>Their, Parents, Approval, Nithya, Arun, Fix, T...</td>\n",
       "      <td>male</td>\n",
       "    </tr>\n",
       "    <tr>\n",
       "      <th>38</th>\n",
       "      <td>Darshana, Wedding, Reception, Finds, Herself, ...</td>\n",
       "      <td>male</td>\n",
       "    </tr>\n",
       "    <tr>\n",
       "      <th>39</th>\n",
       "      <td>Arun, Nithya, Get, Married, Live, Happily, The...</td>\n",
       "      <td>male</td>\n",
       "    </tr>\n",
       "    <tr>\n",
       "      <th>40</th>\n",
       "      <td>Nithya, Gives, Birth, A, Baby, Boy</td>\n",
       "      <td>male</td>\n",
       "    </tr>\n",
       "    <tr>\n",
       "      <th>41</th>\n",
       "      <td>Arun, Feels, Telling, Darshana, News, First</td>\n",
       "      <td>male</td>\n",
       "    </tr>\n",
       "    <tr>\n",
       "      <th>42</th>\n",
       "      <td>Darshana, Marriage, Arun, Nitya, Along, Their,...</td>\n",
       "      <td>female</td>\n",
       "    </tr>\n",
       "    <tr>\n",
       "      <th>43</th>\n",
       "      <td>Night, Place, Beach</td>\n",
       "      <td>male</td>\n",
       "    </tr>\n",
       "    <tr>\n",
       "      <th>44</th>\n",
       "      <td>Arun, Secretly, Leave, Nithya, Wakes, Up, Bach...</td>\n",
       "      <td>male</td>\n",
       "    </tr>\n",
       "    <tr>\n",
       "      <th>45</th>\n",
       "      <td>Arun, Feels, Guilty, Goes, Room, Nithya, A, Sa...</td>\n",
       "      <td>male</td>\n",
       "    </tr>\n",
       "    <tr>\n",
       "      <th>46</th>\n",
       "      <td>Meet, Darshana</td>\n",
       "      <td>female</td>\n",
       "    </tr>\n",
       "    <tr>\n",
       "      <th>47</th>\n",
       "      <td>Him, Sleep, Peacefully</td>\n",
       "      <td>male</td>\n",
       "    </tr>\n",
       "    <tr>\n",
       "      <th>48</th>\n",
       "      <td>Darshana, Who, Due, Married, Next, Day, Expres...</td>\n",
       "      <td>male</td>\n",
       "    </tr>\n",
       "    <tr>\n",
       "      <th>49</th>\n",
       "      <td>Arun, Tells, Her, WhatIfs, Look, Forward, Her,...</td>\n",
       "      <td>male</td>\n",
       "    </tr>\n",
       "    <tr>\n",
       "      <th>50</th>\n",
       "      <td>Darshana, Gets, Married</td>\n",
       "      <td>male</td>\n",
       "    </tr>\n",
       "    <tr>\n",
       "      <th>51</th>\n",
       "      <td>Chennai, Arun, Takes, A, Detour, Kc, Tech, Key...</td>\n",
       "      <td>female</td>\n",
       "    </tr>\n",
       "    <tr>\n",
       "      <th>52</th>\n",
       "      <td>Thank, College, Him, Campus, Where, Nithya, Th...</td>\n",
       "      <td>male</td>\n",
       "    </tr>\n",
       "  </tbody>\n",
       "</table>\n",
       "</div>"
      ],
      "text/plain": [
       "                                                 Name  Gender\n",
       "0   Arun, Neelakandan, A, Teenager, From, Kerala, ...    male\n",
       "1   Love, College, Sweetheart, Darshana, First, Sight    male\n",
       "2   Arun, Is, A, Few, Scuffles, Incidents, Seniors...    male\n",
       "3   Arun, Friend, Antony, Online, Girlfriend, Feel...    male\n",
       "4         Her, States, Single, A, Kiss, Moral, Police    male\n",
       "5   Arun, Darshana, Who, Lividly, Calls, Relationship    male\n",
       "6                         Heat, Their, Argument, Than    male\n",
       "7                 Arun, Life, Goes, Downhill, Breakup    male\n",
       "8                         Year, Is, Addicted, Alcohol  female\n",
       "9    Relationship, Maya, DoesnT, Find, Himself, Happy    male\n",
       "10      Darshana, Starts, Dating, Kedar, A, Womanizer    male\n",
       "11                        Darshana, A, Sign, Jealousy  female\n",
       "12    Arun, Is, Proven, Right, Darshana, Slaps, Kedar    male\n",
       "13  Kedar, Threatens, Rumours, Her, Friend, Convey...    male\n",
       "14  Home, Arun, Parents, Notice, Something, Their,...    male\n",
       "15  Father, Him, Quit, Alcohol, Turn, Over, A, New...    male\n",
       "16  Arun, Out, Shared, Hostel, Room, A, More, Peac...  female\n",
       "17  Classmate, Selva, Coaching, Antony, Rebound, A...    male\n",
       "18  Darshana, Too, Joins, Selva, Coaching, Class, ...    male\n",
       "19  Selva, A, Bus, Accident, Everyone, Class, Grie...    male\n",
       "20  Maya, Calls, Off, Relationship, Arun, Father, ...    male\n",
       "21  Day, College, Led, Into, A, Room, Called, Secr...    male\n",
       "22                    Arun, Himself, Unable, Anything    male\n",
       "23  Darshana, Who, Arun, Train, Asks, Him, Been, T...    male\n",
       "24                                             Answer    male\n",
       "25        Graduation, Arun, Job, A, Campus, Interview    male\n",
       "26                     Arun, Feels, Dissatisfied, Job    male\n",
       "27            Darshana, Youtube, Vlogger, Him, Dreams    male\n",
       "28  A, Bus, Journey, Jimmy, A, Wedding, Photograph...    male\n",
       "29  Arun, Company, Intimate, Weddings, No, Such, B...  female\n",
       "30  Company, Shoutout, Prateek, Tiwari, Batchmate,...    male\n",
       "31   Shoutout, Lots, Bookings, Arun, Feels, Satisfied    male\n",
       "32  Arun, Sees, Nithya, Balagopal, Feels, Instantl...    male\n",
       "33  Photographs, Nithya, Recommends, Arun, Her, Co...    male\n",
       "34  Arun, Discovers, Groom, Is, Kedar, Exposes, Ch...  female\n",
       "35  Wedding, Is, Off, Nithya, Is, Grateful, Arun, ...    male\n",
       "36  Closer, Nithya, Accompanies, Arun, Chennai, We...    male\n",
       "37  Their, Parents, Approval, Nithya, Arun, Fix, T...    male\n",
       "38  Darshana, Wedding, Reception, Finds, Herself, ...    male\n",
       "39  Arun, Nithya, Get, Married, Live, Happily, The...    male\n",
       "40                 Nithya, Gives, Birth, A, Baby, Boy    male\n",
       "41        Arun, Feels, Telling, Darshana, News, First    male\n",
       "42  Darshana, Marriage, Arun, Nitya, Along, Their,...  female\n",
       "43                                Night, Place, Beach    male\n",
       "44  Arun, Secretly, Leave, Nithya, Wakes, Up, Bach...    male\n",
       "45  Arun, Feels, Guilty, Goes, Room, Nithya, A, Sa...    male\n",
       "46                                     Meet, Darshana  female\n",
       "47                             Him, Sleep, Peacefully    male\n",
       "48  Darshana, Who, Due, Married, Next, Day, Expres...    male\n",
       "49  Arun, Tells, Her, WhatIfs, Look, Forward, Her,...    male\n",
       "50                            Darshana, Gets, Married    male\n",
       "51  Chennai, Arun, Takes, A, Detour, Kc, Tech, Key...  female\n",
       "52  Thank, College, Him, Campus, Where, Nithya, Th...    male"
      ]
     },
     "execution_count": 12,
     "metadata": {},
     "output_type": "execute_result"
    }
   ],
   "source": [
    "tab= Identify_Person_Gender(text)\n",
    "tab"
   ]
  },
  {
   "cell_type": "code",
   "execution_count": 13,
   "metadata": {},
   "outputs": [
    {
     "name": "stderr",
     "output_type": "stream",
     "text": [
      "c:\\Users\\harleyquinn\\AppData\\Local\\Programs\\Python\\Python310\\lib\\site-packages\\tqdm\\auto.py:22: TqdmWarning: IProgress not found. Please update jupyter and ipywidgets. See https://ipywidgets.readthedocs.io/en/stable/user_install.html\n",
      "  from .autonotebook import tqdm as notebook_tqdm\n"
     ]
    }
   ],
   "source": [
    "import spacy\n",
    "nlp = spacy.load('en_core_web_sm')"
   ]
  },
  {
   "cell_type": "code",
   "execution_count": 14,
   "metadata": {},
   "outputs": [
    {
     "name": "stdout",
     "output_type": "stream",
     "text": [
      "['Arun Neelakandan', 'Kerala', 'KC Tech', 'Darshana', 'first', 'Antony', 'Darshana', 'his second year', 'Maya', 'Darshana', 'Kedar', 'Darshana', 'Arun', 'Darshana slaps Kedar', 'Kedar', 'Kedar', 'Selva', 'Antony', 'fifth', 'Darshana', 'Selva', 'Maya', 'Darshana', 'the last day', 'the secret alley', 'their first year', 'only the final year', 'their final day', 'Darshana', 'Arun', 'four years ago', 'Two years later', 'Arun', 'Darshana', 'YouTube', 'Jimmy', 'Kerala', 'Prateek Tiwari', 'Bollywood', 'one', 'Arun', 'Nithya Balagopal', 'Arun', 'Kedar', 'Selva', 'Darshana', 'Three years later', 'Darshana', 'first', 'Darshana', 'Arun', 'Nitya', 'Darshana', 'Nithya', 'That night', 'Arun', 'Darshana', 'Darshana', 'the next day', 'Darshana', 'Arun']\n"
     ]
    }
   ],
   "source": [
    "doc = nlp(text)\n",
    "d=[]\n",
    "for ent in doc.ents:\n",
    "    \n",
    "    d.append(ent.text)\n",
    "print(d)"
   ]
  },
  {
   "cell_type": "code",
   "execution_count": 15,
   "metadata": {},
   "outputs": [
    {
     "data": {
      "text/html": [
       "<div>\n",
       "<style scoped>\n",
       "    .dataframe tbody tr th:only-of-type {\n",
       "        vertical-align: middle;\n",
       "    }\n",
       "\n",
       "    .dataframe tbody tr th {\n",
       "        vertical-align: top;\n",
       "    }\n",
       "\n",
       "    .dataframe thead th {\n",
       "        text-align: right;\n",
       "    }\n",
       "</style>\n",
       "<table border=\"1\" class=\"dataframe\">\n",
       "  <thead>\n",
       "    <tr style=\"text-align: right;\">\n",
       "      <th></th>\n",
       "      <th>Name</th>\n",
       "      <th>Gender</th>\n",
       "    </tr>\n",
       "  </thead>\n",
       "  <tbody>\n",
       "    <tr>\n",
       "      <th>8</th>\n",
       "      <td>Year, Is, Addicted, Alcohol</td>\n",
       "      <td>female</td>\n",
       "    </tr>\n",
       "    <tr>\n",
       "      <th>11</th>\n",
       "      <td>Darshana, A, Sign, Jealousy</td>\n",
       "      <td>female</td>\n",
       "    </tr>\n",
       "    <tr>\n",
       "      <th>16</th>\n",
       "      <td>Arun, Out, Shared, Hostel, Room, A, More, Peac...</td>\n",
       "      <td>female</td>\n",
       "    </tr>\n",
       "    <tr>\n",
       "      <th>29</th>\n",
       "      <td>Arun, Company, Intimate, Weddings, No, Such, B...</td>\n",
       "      <td>female</td>\n",
       "    </tr>\n",
       "    <tr>\n",
       "      <th>34</th>\n",
       "      <td>Arun, Discovers, Groom, Is, Kedar, Exposes, Ch...</td>\n",
       "      <td>female</td>\n",
       "    </tr>\n",
       "    <tr>\n",
       "      <th>42</th>\n",
       "      <td>Darshana, Marriage, Arun, Nitya, Along, Their,...</td>\n",
       "      <td>female</td>\n",
       "    </tr>\n",
       "    <tr>\n",
       "      <th>46</th>\n",
       "      <td>Meet, Darshana</td>\n",
       "      <td>female</td>\n",
       "    </tr>\n",
       "    <tr>\n",
       "      <th>51</th>\n",
       "      <td>Chennai, Arun, Takes, A, Detour, Kc, Tech, Key...</td>\n",
       "      <td>female</td>\n",
       "    </tr>\n",
       "  </tbody>\n",
       "</table>\n",
       "</div>"
      ],
      "text/plain": [
       "                                                 Name  Gender\n",
       "8                         Year, Is, Addicted, Alcohol  female\n",
       "11                        Darshana, A, Sign, Jealousy  female\n",
       "16  Arun, Out, Shared, Hostel, Room, A, More, Peac...  female\n",
       "29  Arun, Company, Intimate, Weddings, No, Such, B...  female\n",
       "34  Arun, Discovers, Groom, Is, Kedar, Exposes, Ch...  female\n",
       "42  Darshana, Marriage, Arun, Nitya, Along, Their,...  female\n",
       "46                                     Meet, Darshana  female\n",
       "51  Chennai, Arun, Takes, A, Detour, Kc, Tech, Key...  female"
      ]
     },
     "execution_count": 15,
     "metadata": {},
     "output_type": "execute_result"
    }
   ],
   "source": [
    "fdf = tab[tab['Gender'] == 'female' ]\n",
    "fdf"
   ]
  },
  {
   "cell_type": "code",
   "execution_count": 16,
   "metadata": {},
   "outputs": [
    {
     "data": {
      "text/html": [
       "<div>\n",
       "<style scoped>\n",
       "    .dataframe tbody tr th:only-of-type {\n",
       "        vertical-align: middle;\n",
       "    }\n",
       "\n",
       "    .dataframe tbody tr th {\n",
       "        vertical-align: top;\n",
       "    }\n",
       "\n",
       "    .dataframe thead th {\n",
       "        text-align: right;\n",
       "    }\n",
       "</style>\n",
       "<table border=\"1\" class=\"dataframe\">\n",
       "  <thead>\n",
       "    <tr style=\"text-align: right;\">\n",
       "      <th></th>\n",
       "      <th>Name</th>\n",
       "      <th>Gender</th>\n",
       "    </tr>\n",
       "  </thead>\n",
       "  <tbody>\n",
       "    <tr>\n",
       "      <th>0</th>\n",
       "      <td>Arun, Neelakandan, A, Teenager, From, Kerala, ...</td>\n",
       "      <td>male</td>\n",
       "    </tr>\n",
       "    <tr>\n",
       "      <th>1</th>\n",
       "      <td>Love, College, Sweetheart, Darshana, First, Sight</td>\n",
       "      <td>male</td>\n",
       "    </tr>\n",
       "    <tr>\n",
       "      <th>2</th>\n",
       "      <td>Arun, Is, A, Few, Scuffles, Incidents, Seniors...</td>\n",
       "      <td>male</td>\n",
       "    </tr>\n",
       "    <tr>\n",
       "      <th>3</th>\n",
       "      <td>Arun, Friend, Antony, Online, Girlfriend, Feel...</td>\n",
       "      <td>male</td>\n",
       "    </tr>\n",
       "    <tr>\n",
       "      <th>4</th>\n",
       "      <td>Her, States, Single, A, Kiss, Moral, Police</td>\n",
       "      <td>male</td>\n",
       "    </tr>\n",
       "    <tr>\n",
       "      <th>5</th>\n",
       "      <td>Arun, Darshana, Who, Lividly, Calls, Relationship</td>\n",
       "      <td>male</td>\n",
       "    </tr>\n",
       "    <tr>\n",
       "      <th>6</th>\n",
       "      <td>Heat, Their, Argument, Than</td>\n",
       "      <td>male</td>\n",
       "    </tr>\n",
       "    <tr>\n",
       "      <th>7</th>\n",
       "      <td>Arun, Life, Goes, Downhill, Breakup</td>\n",
       "      <td>male</td>\n",
       "    </tr>\n",
       "    <tr>\n",
       "      <th>9</th>\n",
       "      <td>Relationship, Maya, DoesnT, Find, Himself, Happy</td>\n",
       "      <td>male</td>\n",
       "    </tr>\n",
       "    <tr>\n",
       "      <th>10</th>\n",
       "      <td>Darshana, Starts, Dating, Kedar, A, Womanizer</td>\n",
       "      <td>male</td>\n",
       "    </tr>\n",
       "    <tr>\n",
       "      <th>12</th>\n",
       "      <td>Arun, Is, Proven, Right, Darshana, Slaps, Kedar</td>\n",
       "      <td>male</td>\n",
       "    </tr>\n",
       "    <tr>\n",
       "      <th>13</th>\n",
       "      <td>Kedar, Threatens, Rumours, Her, Friend, Convey...</td>\n",
       "      <td>male</td>\n",
       "    </tr>\n",
       "    <tr>\n",
       "      <th>14</th>\n",
       "      <td>Home, Arun, Parents, Notice, Something, Their,...</td>\n",
       "      <td>male</td>\n",
       "    </tr>\n",
       "    <tr>\n",
       "      <th>15</th>\n",
       "      <td>Father, Him, Quit, Alcohol, Turn, Over, A, New...</td>\n",
       "      <td>male</td>\n",
       "    </tr>\n",
       "    <tr>\n",
       "      <th>17</th>\n",
       "      <td>Classmate, Selva, Coaching, Antony, Rebound, A...</td>\n",
       "      <td>male</td>\n",
       "    </tr>\n",
       "    <tr>\n",
       "      <th>18</th>\n",
       "      <td>Darshana, Too, Joins, Selva, Coaching, Class, ...</td>\n",
       "      <td>male</td>\n",
       "    </tr>\n",
       "    <tr>\n",
       "      <th>19</th>\n",
       "      <td>Selva, A, Bus, Accident, Everyone, Class, Grie...</td>\n",
       "      <td>male</td>\n",
       "    </tr>\n",
       "    <tr>\n",
       "      <th>20</th>\n",
       "      <td>Maya, Calls, Off, Relationship, Arun, Father, ...</td>\n",
       "      <td>male</td>\n",
       "    </tr>\n",
       "    <tr>\n",
       "      <th>21</th>\n",
       "      <td>Day, College, Led, Into, A, Room, Called, Secr...</td>\n",
       "      <td>male</td>\n",
       "    </tr>\n",
       "    <tr>\n",
       "      <th>22</th>\n",
       "      <td>Arun, Himself, Unable, Anything</td>\n",
       "      <td>male</td>\n",
       "    </tr>\n",
       "    <tr>\n",
       "      <th>23</th>\n",
       "      <td>Darshana, Who, Arun, Train, Asks, Him, Been, T...</td>\n",
       "      <td>male</td>\n",
       "    </tr>\n",
       "    <tr>\n",
       "      <th>24</th>\n",
       "      <td>Answer</td>\n",
       "      <td>male</td>\n",
       "    </tr>\n",
       "    <tr>\n",
       "      <th>25</th>\n",
       "      <td>Graduation, Arun, Job, A, Campus, Interview</td>\n",
       "      <td>male</td>\n",
       "    </tr>\n",
       "    <tr>\n",
       "      <th>26</th>\n",
       "      <td>Arun, Feels, Dissatisfied, Job</td>\n",
       "      <td>male</td>\n",
       "    </tr>\n",
       "    <tr>\n",
       "      <th>27</th>\n",
       "      <td>Darshana, Youtube, Vlogger, Him, Dreams</td>\n",
       "      <td>male</td>\n",
       "    </tr>\n",
       "    <tr>\n",
       "      <th>28</th>\n",
       "      <td>A, Bus, Journey, Jimmy, A, Wedding, Photograph...</td>\n",
       "      <td>male</td>\n",
       "    </tr>\n",
       "    <tr>\n",
       "      <th>30</th>\n",
       "      <td>Company, Shoutout, Prateek, Tiwari, Batchmate,...</td>\n",
       "      <td>male</td>\n",
       "    </tr>\n",
       "    <tr>\n",
       "      <th>31</th>\n",
       "      <td>Shoutout, Lots, Bookings, Arun, Feels, Satisfied</td>\n",
       "      <td>male</td>\n",
       "    </tr>\n",
       "    <tr>\n",
       "      <th>32</th>\n",
       "      <td>Arun, Sees, Nithya, Balagopal, Feels, Instantl...</td>\n",
       "      <td>male</td>\n",
       "    </tr>\n",
       "    <tr>\n",
       "      <th>33</th>\n",
       "      <td>Photographs, Nithya, Recommends, Arun, Her, Co...</td>\n",
       "      <td>male</td>\n",
       "    </tr>\n",
       "    <tr>\n",
       "      <th>35</th>\n",
       "      <td>Wedding, Is, Off, Nithya, Is, Grateful, Arun, ...</td>\n",
       "      <td>male</td>\n",
       "    </tr>\n",
       "    <tr>\n",
       "      <th>36</th>\n",
       "      <td>Closer, Nithya, Accompanies, Arun, Chennai, We...</td>\n",
       "      <td>male</td>\n",
       "    </tr>\n",
       "    <tr>\n",
       "      <th>37</th>\n",
       "      <td>Their, Parents, Approval, Nithya, Arun, Fix, T...</td>\n",
       "      <td>male</td>\n",
       "    </tr>\n",
       "    <tr>\n",
       "      <th>38</th>\n",
       "      <td>Darshana, Wedding, Reception, Finds, Herself, ...</td>\n",
       "      <td>male</td>\n",
       "    </tr>\n",
       "    <tr>\n",
       "      <th>39</th>\n",
       "      <td>Arun, Nithya, Get, Married, Live, Happily, The...</td>\n",
       "      <td>male</td>\n",
       "    </tr>\n",
       "    <tr>\n",
       "      <th>40</th>\n",
       "      <td>Nithya, Gives, Birth, A, Baby, Boy</td>\n",
       "      <td>male</td>\n",
       "    </tr>\n",
       "    <tr>\n",
       "      <th>41</th>\n",
       "      <td>Arun, Feels, Telling, Darshana, News, First</td>\n",
       "      <td>male</td>\n",
       "    </tr>\n",
       "    <tr>\n",
       "      <th>43</th>\n",
       "      <td>Night, Place, Beach</td>\n",
       "      <td>male</td>\n",
       "    </tr>\n",
       "    <tr>\n",
       "      <th>44</th>\n",
       "      <td>Arun, Secretly, Leave, Nithya, Wakes, Up, Bach...</td>\n",
       "      <td>male</td>\n",
       "    </tr>\n",
       "    <tr>\n",
       "      <th>45</th>\n",
       "      <td>Arun, Feels, Guilty, Goes, Room, Nithya, A, Sa...</td>\n",
       "      <td>male</td>\n",
       "    </tr>\n",
       "    <tr>\n",
       "      <th>47</th>\n",
       "      <td>Him, Sleep, Peacefully</td>\n",
       "      <td>male</td>\n",
       "    </tr>\n",
       "    <tr>\n",
       "      <th>48</th>\n",
       "      <td>Darshana, Who, Due, Married, Next, Day, Expres...</td>\n",
       "      <td>male</td>\n",
       "    </tr>\n",
       "    <tr>\n",
       "      <th>49</th>\n",
       "      <td>Arun, Tells, Her, WhatIfs, Look, Forward, Her,...</td>\n",
       "      <td>male</td>\n",
       "    </tr>\n",
       "    <tr>\n",
       "      <th>50</th>\n",
       "      <td>Darshana, Gets, Married</td>\n",
       "      <td>male</td>\n",
       "    </tr>\n",
       "    <tr>\n",
       "      <th>52</th>\n",
       "      <td>Thank, College, Him, Campus, Where, Nithya, Th...</td>\n",
       "      <td>male</td>\n",
       "    </tr>\n",
       "  </tbody>\n",
       "</table>\n",
       "</div>"
      ],
      "text/plain": [
       "                                                 Name Gender\n",
       "0   Arun, Neelakandan, A, Teenager, From, Kerala, ...   male\n",
       "1   Love, College, Sweetheart, Darshana, First, Sight   male\n",
       "2   Arun, Is, A, Few, Scuffles, Incidents, Seniors...   male\n",
       "3   Arun, Friend, Antony, Online, Girlfriend, Feel...   male\n",
       "4         Her, States, Single, A, Kiss, Moral, Police   male\n",
       "5   Arun, Darshana, Who, Lividly, Calls, Relationship   male\n",
       "6                         Heat, Their, Argument, Than   male\n",
       "7                 Arun, Life, Goes, Downhill, Breakup   male\n",
       "9    Relationship, Maya, DoesnT, Find, Himself, Happy   male\n",
       "10      Darshana, Starts, Dating, Kedar, A, Womanizer   male\n",
       "12    Arun, Is, Proven, Right, Darshana, Slaps, Kedar   male\n",
       "13  Kedar, Threatens, Rumours, Her, Friend, Convey...   male\n",
       "14  Home, Arun, Parents, Notice, Something, Their,...   male\n",
       "15  Father, Him, Quit, Alcohol, Turn, Over, A, New...   male\n",
       "17  Classmate, Selva, Coaching, Antony, Rebound, A...   male\n",
       "18  Darshana, Too, Joins, Selva, Coaching, Class, ...   male\n",
       "19  Selva, A, Bus, Accident, Everyone, Class, Grie...   male\n",
       "20  Maya, Calls, Off, Relationship, Arun, Father, ...   male\n",
       "21  Day, College, Led, Into, A, Room, Called, Secr...   male\n",
       "22                    Arun, Himself, Unable, Anything   male\n",
       "23  Darshana, Who, Arun, Train, Asks, Him, Been, T...   male\n",
       "24                                             Answer   male\n",
       "25        Graduation, Arun, Job, A, Campus, Interview   male\n",
       "26                     Arun, Feels, Dissatisfied, Job   male\n",
       "27            Darshana, Youtube, Vlogger, Him, Dreams   male\n",
       "28  A, Bus, Journey, Jimmy, A, Wedding, Photograph...   male\n",
       "30  Company, Shoutout, Prateek, Tiwari, Batchmate,...   male\n",
       "31   Shoutout, Lots, Bookings, Arun, Feels, Satisfied   male\n",
       "32  Arun, Sees, Nithya, Balagopal, Feels, Instantl...   male\n",
       "33  Photographs, Nithya, Recommends, Arun, Her, Co...   male\n",
       "35  Wedding, Is, Off, Nithya, Is, Grateful, Arun, ...   male\n",
       "36  Closer, Nithya, Accompanies, Arun, Chennai, We...   male\n",
       "37  Their, Parents, Approval, Nithya, Arun, Fix, T...   male\n",
       "38  Darshana, Wedding, Reception, Finds, Herself, ...   male\n",
       "39  Arun, Nithya, Get, Married, Live, Happily, The...   male\n",
       "40                 Nithya, Gives, Birth, A, Baby, Boy   male\n",
       "41        Arun, Feels, Telling, Darshana, News, First   male\n",
       "43                                Night, Place, Beach   male\n",
       "44  Arun, Secretly, Leave, Nithya, Wakes, Up, Bach...   male\n",
       "45  Arun, Feels, Guilty, Goes, Room, Nithya, A, Sa...   male\n",
       "47                             Him, Sleep, Peacefully   male\n",
       "48  Darshana, Who, Due, Married, Next, Day, Expres...   male\n",
       "49  Arun, Tells, Her, WhatIfs, Look, Forward, Her,...   male\n",
       "50                            Darshana, Gets, Married   male\n",
       "52  Thank, College, Him, Campus, Where, Nithya, Th...   male"
      ]
     },
     "execution_count": 16,
     "metadata": {},
     "output_type": "execute_result"
    }
   ],
   "source": [
    "mdf = tab[tab['Gender']== 'male']\n",
    "mdf"
   ]
  },
  {
   "cell_type": "code",
   "execution_count": 17,
   "metadata": {},
   "outputs": [],
   "source": [
    "import datacompy"
   ]
  },
  {
   "cell_type": "code",
   "execution_count": 18,
   "metadata": {},
   "outputs": [
    {
     "name": "stderr",
     "output_type": "stream",
     "text": [
      "c:\\Users\\harleyquinn\\AppData\\Local\\Programs\\Python\\Python310\\lib\\site-packages\\datacompy\\core.py:256: SettingWithCopyWarning: \n",
      "A value is trying to be set on a copy of a slice from a DataFrame.\n",
      "Try using .loc[row_indexer,col_indexer] = value instead\n",
      "\n",
      "See the caveats in the documentation: https://pandas.pydata.org/pandas-docs/stable/user_guide/indexing.html#returning-a-view-versus-a-copy\n",
      "  self.df1[order_column] = generate_id_within_group(\n",
      "c:\\Users\\harleyquinn\\AppData\\Local\\Programs\\Python\\Python310\\lib\\site-packages\\datacompy\\core.py:259: SettingWithCopyWarning: \n",
      "A value is trying to be set on a copy of a slice from a DataFrame.\n",
      "Try using .loc[row_indexer,col_indexer] = value instead\n",
      "\n",
      "See the caveats in the documentation: https://pandas.pydata.org/pandas-docs/stable/user_guide/indexing.html#returning-a-view-versus-a-copy\n",
      "  self.df2[order_column] = generate_id_within_group(\n",
      "c:\\Users\\harleyquinn\\AppData\\Local\\Programs\\Python\\Python310\\lib\\site-packages\\datacompy\\core.py:289: SettingWithCopyWarning: \n",
      "A value is trying to be set on a copy of a slice from a DataFrame\n",
      "\n",
      "See the caveats in the documentation: https://pandas.pydata.org/pandas-docs/stable/user_guide/indexing.html#returning-a-view-versus-a-copy\n",
      "  self.df1.drop(order_column, axis=1, inplace=True)\n",
      "c:\\Users\\harleyquinn\\AppData\\Local\\Programs\\Python\\Python310\\lib\\site-packages\\datacompy\\core.py:290: SettingWithCopyWarning: \n",
      "A value is trying to be set on a copy of a slice from a DataFrame\n",
      "\n",
      "See the caveats in the documentation: https://pandas.pydata.org/pandas-docs/stable/user_guide/indexing.html#returning-a-view-versus-a-copy\n",
      "  self.df2.drop(order_column, axis=1, inplace=True)\n"
     ]
    }
   ],
   "source": [
    "compare = datacompy.Compare(mdf,fdf,join_columns='Gender')"
   ]
  },
  {
   "cell_type": "code",
   "execution_count": 19,
   "metadata": {},
   "outputs": [
    {
     "name": "stdout",
     "output_type": "stream",
     "text": [
      "DataComPy Comparison\n",
      "--------------------\n",
      "\n",
      "DataFrame Summary\n",
      "-----------------\n",
      "\n",
      "  DataFrame  Columns  Rows\n",
      "0       df1        2    45\n",
      "1       df2        2     8\n",
      "\n",
      "Column Summary\n",
      "--------------\n",
      "\n",
      "Number of columns in common: 2\n",
      "Number of columns in df1 but not in df2: 0\n",
      "Number of columns in df2 but not in df1: 0\n",
      "\n",
      "Row Summary\n",
      "-----------\n",
      "\n",
      "Matched on: gender\n",
      "Any duplicates on match values: Yes\n",
      "Absolute Tolerance: 0\n",
      "Relative Tolerance: 0\n",
      "Number of rows in common: 0\n",
      "Number of rows in df1 but not in df2: 45\n",
      "Number of rows in df2 but not in df1: 8\n",
      "\n",
      "Number of rows with some compared columns unequal: 0\n",
      "Number of rows with all compared columns equal: 0\n",
      "\n",
      "Column Comparison\n",
      "-----------------\n",
      "\n",
      "Number of columns compared with some values unequal: 0\n",
      "Number of columns compared with all values equal: 2\n",
      "Total number of values which compare unequal: 0\n",
      "\n",
      "Sample Rows Only in df1 (First 10 Columns)\n",
      "------------------------------------------\n",
      "\n",
      "                                                                                                                       name gender\n",
      "37                                                                                                      Night, Place, Beach   male\n",
      "15                                                       Darshana, Too, Joins, Selva, Coaching, Class, Finds, Herself, Arun   male\n",
      "7                                                                                       Arun, Life, Goes, Downhill, Breakup   male\n",
      "25                         A, Bus, Journey, Jimmy, A, Wedding, Photographer, Who, Need, A, Partner, Drags, Him, Photography   male\n",
      "31  Closer, Nithya, Accompanies, Arun, Chennai, Wedding, Back, Terrace, Where, Selva, Held, Coaching, Arrival, New, Tenants   male\n",
      "24                                                                                  Darshana, Youtube, Vlogger, Him, Dreams   male\n",
      "17                                       Maya, Calls, Off, Relationship, Arun, Father, Death, Arun, Does, Darshana, Jealous   male\n",
      "32                                                             Their, Parents, Approval, Nithya, Arun, Fix, Their, Marriage   male\n",
      "33                                                  Darshana, Wedding, Reception, Finds, Herself, Unable, Fact, Arun, Tears   male\n",
      "28                                                          Arun, Sees, Nithya, Balagopal, Feels, Instantly, Attracted, Her   male\n",
      "\n",
      "Sample Rows Only in df2 (First 10 Columns)\n",
      "------------------------------------------\n",
      "\n",
      "                                                                                                                                                           name  gender\n",
      "48                                                                                        Arun, Company, Intimate, Weddings, No, Such, Brand, Currently, Kerala  female\n",
      "49                                                                                                Arun, Discovers, Groom, Is, Kedar, Exposes, Character, Nithya  female\n",
      "52                                                                                                Chennai, Arun, Takes, A, Detour, Kc, Tech, Key, Secret, Alley  female\n",
      "51                                                                                                                                               Meet, Darshana  female\n",
      "47                                                                                               Arun, Out, Shared, Hostel, Room, A, More, Peaceful, Atmosphere  female\n",
      "46                                                                                                                                  Darshana, A, Sign, Jealousy  female\n",
      "45                                                                                                                                  Year, Is, Addicted, Alcohol  female\n",
      "50  Darshana, Marriage, Arun, Nitya, Along, Their, Son, Go, Place, Same, Darshana, Who, Has, Feelings, Arun, Acts, Too, Close, Around, Him, Which, Irks, Nithya  female\n",
      "\n",
      "\n"
     ]
    }
   ],
   "source": [
    "print(compare.report())"
   ]
  },
  {
   "cell_type": "code",
   "execution_count": 20,
   "metadata": {},
   "outputs": [],
   "source": [
    "Gcount = tab.groupby('Gender').size().reset_index(name='counts')"
   ]
  },
  {
   "cell_type": "code",
   "execution_count": 21,
   "metadata": {},
   "outputs": [
    {
     "data": {
      "text/html": [
       "<div>\n",
       "<style scoped>\n",
       "    .dataframe tbody tr th:only-of-type {\n",
       "        vertical-align: middle;\n",
       "    }\n",
       "\n",
       "    .dataframe tbody tr th {\n",
       "        vertical-align: top;\n",
       "    }\n",
       "\n",
       "    .dataframe thead th {\n",
       "        text-align: right;\n",
       "    }\n",
       "</style>\n",
       "<table border=\"1\" class=\"dataframe\">\n",
       "  <thead>\n",
       "    <tr style=\"text-align: right;\">\n",
       "      <th></th>\n",
       "      <th>Gender</th>\n",
       "      <th>counts</th>\n",
       "    </tr>\n",
       "  </thead>\n",
       "  <tbody>\n",
       "    <tr>\n",
       "      <th>0</th>\n",
       "      <td>female</td>\n",
       "      <td>8</td>\n",
       "    </tr>\n",
       "    <tr>\n",
       "      <th>1</th>\n",
       "      <td>male</td>\n",
       "      <td>45</td>\n",
       "    </tr>\n",
       "  </tbody>\n",
       "</table>\n",
       "</div>"
      ],
      "text/plain": [
       "   Gender  counts\n",
       "0  female       8\n",
       "1    male      45"
      ]
     },
     "execution_count": 21,
     "metadata": {},
     "output_type": "execute_result"
    }
   ],
   "source": [
    "Gcount"
   ]
  },
  {
   "cell_type": "code",
   "execution_count": 22,
   "metadata": {},
   "outputs": [
    {
     "data": {
      "text/plain": [
       "'male'"
      ]
     },
     "execution_count": 22,
     "metadata": {},
     "output_type": "execute_result"
    }
   ],
   "source": [
    "Gcount[\"Gender\"].max()"
   ]
  },
  {
   "cell_type": "code",
   "execution_count": 23,
   "metadata": {},
   "outputs": [],
   "source": [
    "Gcount.to_csv(\"count.csv\")"
   ]
  },
  {
   "cell_type": "code",
   "execution_count": 24,
   "metadata": {},
   "outputs": [],
   "source": [
    "import matplotlib as mpl\n",
    "import matplotlib.pyplot as plt\n",
    "import seaborn as sns\n",
    "from PIL import Image\n",
    "from wordcloud import WordCloud, STOPWORDS"
   ]
  },
  {
   "cell_type": "code",
   "execution_count": 25,
   "metadata": {},
   "outputs": [
    {
     "data": {
      "image/png": "[encoded data removed]",
      "text/plain": [
       "<Figure size 432x288 with 1 Axes>"
      ]
     },
     "metadata": {
      "needs_background": "light"
     },
     "output_type": "display_data"
    }
   ],
   "source": [
    "w3 = \" \".join(title for title in fdf.name)\n",
    "img = np.array(Image.open(\"C:\\\\Users\\\\harleyquinn\\\\Documents\\\\GitHub\\\\Bollywood_movie_analysis\\\\image.png\"))\n",
    "wc = WordCloud(collocations = False, background_color ='black',mask=img).generate(w3)\n",
    "plt.imshow(wc, interpolation='bilinear')\n",
    "plt.axis(\"off\")\n",
    "plt.show()"
   ]
  },
  {
   "cell_type": "code",
   "execution_count": 26,
   "metadata": {},
   "outputs": [],
   "source": [
    "import pandas as pd\n",
    "from matplotlib import pyplot as plt"
   ]
  },
  {
   "cell_type": "code",
   "execution_count": 27,
   "metadata": {},
   "outputs": [
    {
     "data": {
      "text/html": [
       "<div>\n",
       "<style scoped>\n",
       "    .dataframe tbody tr th:only-of-type {\n",
       "        vertical-align: middle;\n",
       "    }\n",
       "\n",
       "    .dataframe tbody tr th {\n",
       "        vertical-align: top;\n",
       "    }\n",
       "\n",
       "    .dataframe thead th {\n",
       "        text-align: right;\n",
       "    }\n",
       "</style>\n",
       "<table border=\"1\" class=\"dataframe\">\n",
       "  <thead>\n",
       "    <tr style=\"text-align: right;\">\n",
       "      <th></th>\n",
       "      <th>Unnamed: 0</th>\n",
       "      <th>Gender</th>\n",
       "      <th>counts</th>\n",
       "    </tr>\n",
       "  </thead>\n",
       "  <tbody>\n",
       "    <tr>\n",
       "      <th>0</th>\n",
       "      <td>0</td>\n",
       "      <td>female</td>\n",
       "      <td>8</td>\n",
       "    </tr>\n",
       "    <tr>\n",
       "      <th>1</th>\n",
       "      <td>1</td>\n",
       "      <td>male</td>\n",
       "      <td>45</td>\n",
       "    </tr>\n",
       "  </tbody>\n",
       "</table>\n",
       "</div>"
      ],
      "text/plain": [
       "   Unnamed: 0  Gender  counts\n",
       "0           0  female       8\n",
       "1           1    male      45"
      ]
     },
     "execution_count": 27,
     "metadata": {},
     "output_type": "execute_result"
    }
   ],
   "source": [
    "data = pd.read_csv(r\"count.csv\")\n",
    "data.head()"
   ]
  },
  {
   "cell_type": "code",
   "execution_count": 28,
   "metadata": {},
   "outputs": [],
   "source": [
    "df = pd.DataFrame(data)\n",
    "Gender= df['Gender']\n",
    "Count = df['counts']"
   ]
  },
  {
   "cell_type": "code",
   "execution_count": 29,
   "metadata": {},
   "outputs": [
    {
     "data": {
      "text/plain": [
       "Text(0, 0.5, 'Count')"
      ]
     },
     "execution_count": 29,
     "metadata": {},
     "output_type": "execute_result"
    },
    {
     "data": {
      "image/png": "[encoded data removed]",
      "text/plain": [
       "<Figure size 432x288 with 1 Axes>"
      ]
     },
     "metadata": {
      "needs_background": "light"
     },
     "output_type": "display_data"
    }
   ],
   "source": [
    "sns.barplot(data=df, x=\"Gender\", y=\"counts\", hue=\"Gender\",palette = \"Blues\")\n",
    "plt.xlabel(\"Gender\")\n",
    "plt.ylabel(\"Count\")"
   ]
  },
  {
   "cell_type": "code",
   "execution_count": 31,
   "metadata": {},
   "outputs": [
    {
     "data": {
      "text/html": [
       "<div>\n",
       "<style scoped>\n",
       "    .dataframe tbody tr th:only-of-type {\n",
       "        vertical-align: middle;\n",
       "    }\n",
       "\n",
       "    .dataframe tbody tr th {\n",
       "        vertical-align: top;\n",
       "    }\n",
       "\n",
       "    .dataframe thead th {\n",
       "        text-align: right;\n",
       "    }\n",
       "</style>\n",
       "<table border=\"1\" class=\"dataframe\">\n",
       "  <thead>\n",
       "    <tr style=\"text-align: right;\">\n",
       "      <th></th>\n",
       "      <th>Name</th>\n",
       "    </tr>\n",
       "  </thead>\n",
       "  <tbody>\n",
       "    <tr>\n",
       "      <th>0</th>\n",
       "      <td>Arun, Neelakandan, A, Teenager, From, Kerala, ...</td>\n",
       "    </tr>\n",
       "    <tr>\n",
       "      <th>1</th>\n",
       "      <td>Love, College, Sweetheart, Darshana, First, Sight</td>\n",
       "    </tr>\n",
       "    <tr>\n",
       "      <th>2</th>\n",
       "      <td>Arun, Is, A, Few, Scuffles, Incidents, Seniors...</td>\n",
       "    </tr>\n",
       "    <tr>\n",
       "      <th>3</th>\n",
       "      <td>Arun, Friend, Antony, Online, Girlfriend, Feel...</td>\n",
       "    </tr>\n",
       "    <tr>\n",
       "      <th>4</th>\n",
       "      <td>Her, States, Single, A, Kiss, Moral, Police</td>\n",
       "    </tr>\n",
       "  </tbody>\n",
       "</table>\n",
       "</div>"
      ],
      "text/plain": [
       "                                                Name\n",
       "0  Arun, Neelakandan, A, Teenager, From, Kerala, ...\n",
       "1  Love, College, Sweetheart, Darshana, First, Sight\n",
       "2  Arun, Is, A, Few, Scuffles, Incidents, Seniors...\n",
       "3  Arun, Friend, Antony, Online, Girlfriend, Feel...\n",
       "4        Her, States, Single, A, Kiss, Moral, Police"
      ]
     },
     "execution_count": 31,
     "metadata": {},
     "output_type": "execute_result"
    }
   ],
   "source": [
    "X = tab.drop('Gender', axis=1)\n",
    "X.head()"
   ]
  },
  {
   "cell_type": "code",
   "execution_count": 32,
   "metadata": {},
   "outputs": [
    {
     "data": {
      "text/plain": [
       "Index(['Name'], dtype='object')"
      ]
     },
     "execution_count": 32,
     "metadata": {},
     "output_type": "execute_result"
    }
   ],
   "source": [
    "X.columns"
   ]
  },
  {
   "cell_type": "code",
   "execution_count": 33,
   "metadata": {},
   "outputs": [],
   "source": [
    "from sklearn.feature_extraction import DictVectorizer\n",
    "from sklearn.feature_extraction.text import HashingVectorizer\n",
    "from sklearn.linear_model import Perceptron\n",
    "from sklearn.model_selection import train_test_split\n",
    "from sklearn.linear_model import SGDClassifier\n",
    "from sklearn.linear_model import PassiveAggressiveClassifier\n",
    "from sklearn.naive_bayes import MultinomialNB\n",
    "from sklearn.metrics import classification_report"
   ]
  },
  {
   "cell_type": "code",
   "execution_count": 34,
   "metadata": {},
   "outputs": [
    {
     "data": {
      "text/plain": [
       "(53, 53)"
      ]
     },
     "execution_count": 34,
     "metadata": {},
     "output_type": "execute_result"
    }
   ],
   "source": [
    "v = DictVectorizer(sparse=False)\n",
    "X = v.fit_transform(X.to_dict('records'))\n",
    "X.shape"
   ]
  },
  {
   "cell_type": "code",
   "execution_count": 35,
   "metadata": {},
   "outputs": [],
   "source": [
    "y = tab.Gender.values"
   ]
  },
  {
   "cell_type": "code",
   "execution_count": 36,
   "metadata": {},
   "outputs": [],
   "source": [
    "classes = np.unique(y)"
   ]
  },
  {
   "cell_type": "code",
   "execution_count": 37,
   "metadata": {},
   "outputs": [
    {
     "data": {
      "text/plain": [
       "['female', 'male']"
      ]
     },
     "execution_count": 37,
     "metadata": {},
     "output_type": "execute_result"
    }
   ],
   "source": [
    "classes = classes.tolist()\n",
    "classes"
   ]
  },
  {
   "cell_type": "code",
   "execution_count": 38,
   "metadata": {},
   "outputs": [
    {
     "data": {
      "text/plain": [
       "((53, 53), (53,))"
      ]
     },
     "execution_count": 38,
     "metadata": {},
     "output_type": "execute_result"
    }
   ],
   "source": [
    "X.shape, y.shape"
   ]
  },
  {
   "cell_type": "code",
   "execution_count": 39,
   "metadata": {},
   "outputs": [],
   "source": [
    "X_train, X_test, y_train, y_test = train_test_split(X, y, test_size = 0.33, random_state=0)"
   ]
  },
  {
   "cell_type": "code",
   "execution_count": 40,
   "metadata": {},
   "outputs": [
    {
     "data": {
      "text/plain": [
       "((35, 53), (35,))"
      ]
     },
     "execution_count": 40,
     "metadata": {},
     "output_type": "execute_result"
    }
   ],
   "source": [
    "X_train.shape, y_train.shape"
   ]
  },
  {
   "cell_type": "code",
   "execution_count": 42,
   "metadata": {},
   "outputs": [
    {
     "data": {
      "text/plain": [
       "['female']"
      ]
     },
     "execution_count": 42,
     "metadata": {},
     "output_type": "execute_result"
    }
   ],
   "source": [
    "new_classes = classes.copy()\n",
    "new_classes.pop()\n",
    "new_classes"
   ]
  },
  {
   "cell_type": "code",
   "execution_count": 43,
   "metadata": {},
   "outputs": [
    {
     "name": "stdout",
     "output_type": "stream",
     "text": [
      "-- Epoch 1\n",
      "Norm: 3.61, NNZs: 13, Bias: 1.000000, T: 35, Avg. loss: 0.171429\n",
      "Total training time: 0.00 seconds.\n"
     ]
    },
    {
     "data": {
      "text/html": [
       "<style>#sk-container-id-1 {color: black;background-color: white;}#sk-container-id-1 pre{padding: 0;}#sk-container-id-1 div.sk-toggleable {background-color: white;}#sk-container-id-1 label.sk-toggleable__label {cursor: pointer;display: block;width: 100%;margin-bottom: 0;padding: 0.3em;box-sizing: border-box;text-align: center;}#sk-container-id-1 label.sk-toggleable__label-arrow:before {content: \"▸\";float: left;margin-right: 0.25em;color: #696969;}#sk-container-id-1 label.sk-toggleable__label-arrow:hover:before {color: black;}#sk-container-id-1 div.sk-estimator:hover label.sk-toggleable__label-arrow:before {color: black;}#sk-container-id-1 div.sk-toggleable__content {max-height: 0;max-width: 0;overflow: hidden;text-align: left;background-color: #f0f8ff;}#sk-container-id-1 div.sk-toggleable__content pre {margin: 0.2em;color: black;border-radius: 0.25em;background-color: #f0f8ff;}#sk-container-id-1 input.sk-toggleable__control:checked~div.sk-toggleable__content {max-height: 200px;max-width: 100%;overflow: auto;}#sk-container-id-1 input.sk-toggleable__control:checked~label.sk-toggleable__label-arrow:before {content: \"▾\";}#sk-container-id-1 div.sk-estimator input.sk-toggleable__control:checked~label.sk-toggleable__label {background-color: #d4ebff;}#sk-container-id-1 div.sk-label input.sk-toggleable__control:checked~label.sk-toggleable__label {background-color: #d4ebff;}#sk-container-id-1 input.sk-hidden--visually {border: 0;clip: rect(1px 1px 1px 1px);clip: rect(1px, 1px, 1px, 1px);height: 1px;margin: -1px;overflow: hidden;padding: 0;position: absolute;width: 1px;}#sk-container-id-1 div.sk-estimator {font-family: monospace;background-color: #f0f8ff;border: 1px dotted black;border-radius: 0.25em;box-sizing: border-box;margin-bottom: 0.5em;}#sk-container-id-1 div.sk-estimator:hover {background-color: #d4ebff;}#sk-container-id-1 div.sk-parallel-item::after {content: \"\";width: 100%;border-bottom: 1px solid gray;flex-grow: 1;}#sk-container-id-1 div.sk-label:hover label.sk-toggleable__label {background-color: #d4ebff;}#sk-container-id-1 div.sk-serial::before {content: \"\";position: absolute;border-left: 1px solid gray;box-sizing: border-box;top: 0;bottom: 0;left: 50%;z-index: 0;}#sk-container-id-1 div.sk-serial {display: flex;flex-direction: column;align-items: center;background-color: white;padding-right: 0.2em;padding-left: 0.2em;position: relative;}#sk-container-id-1 div.sk-item {position: relative;z-index: 1;}#sk-container-id-1 div.sk-parallel {display: flex;align-items: stretch;justify-content: center;background-color: white;position: relative;}#sk-container-id-1 div.sk-item::before, #sk-container-id-1 div.sk-parallel-item::before {content: \"\";position: absolute;border-left: 1px solid gray;box-sizing: border-box;top: 0;bottom: 0;left: 50%;z-index: -1;}#sk-container-id-1 div.sk-parallel-item {display: flex;flex-direction: column;z-index: 1;position: relative;background-color: white;}#sk-container-id-1 div.sk-parallel-item:first-child::after {align-self: flex-end;width: 50%;}#sk-container-id-1 div.sk-parallel-item:last-child::after {align-self: flex-start;width: 50%;}#sk-container-id-1 div.sk-parallel-item:only-child::after {width: 0;}#sk-container-id-1 div.sk-dashed-wrapped {border: 1px dashed gray;margin: 0 0.4em 0.5em 0.4em;box-sizing: border-box;padding-bottom: 0.4em;background-color: white;}#sk-container-id-1 div.sk-label label {font-family: monospace;font-weight: bold;display: inline-block;line-height: 1.2em;}#sk-container-id-1 div.sk-label-container {text-align: center;}#sk-container-id-1 div.sk-container {/* jupyter's `normalize.less` sets `[hidden] { display: none; }` but bootstrap.min.css set `[hidden] { display: none !important; }` so we also need the `!important` here to be able to override the default hidden behavior on the sphinx rendered scikit-learn.org. See: https://github.com/scikit-learn/scikit-learn/issues/21755 */display: inline-block !important;position: relative;}#sk-container-id-1 div.sk-text-repr-fallback {display: none;}</style><div id=\"sk-container-id-1\" class=\"sk-top-container\"><div class=\"sk-text-repr-fallback\"><pre>Perceptron(max_iter=5, n_jobs=-1, verbose=10)</pre><b>In a Jupyter environment, please rerun this cell to show the HTML representation or trust the notebook. <br />On GitHub, the HTML representation is unable to render, please try loading this page with nbviewer.org.</b></div><div class=\"sk-container\" hidden><div class=\"sk-item\"><div class=\"sk-estimator sk-toggleable\"><input class=\"sk-toggleable__control sk-hidden--visually\" id=\"sk-estimator-id-1\" type=\"checkbox\" checked><label for=\"sk-estimator-id-1\" class=\"sk-toggleable__label sk-toggleable__label-arrow\">Perceptron</label><div class=\"sk-toggleable__content\"><pre>Perceptron(max_iter=5, n_jobs=-1, verbose=10)</pre></div></div></div></div></div>"
      ],
      "text/plain": [
       "Perceptron(max_iter=5, n_jobs=-1, verbose=10)"
      ]
     },
     "execution_count": 43,
     "metadata": {},
     "output_type": "execute_result"
    }
   ],
   "source": [
    "per = Perceptron(verbose=10, n_jobs=-1, max_iter=5)\n",
    "per.partial_fit(X_train, y_train, classes)"
   ]
  },
  {
   "cell_type": "code",
   "execution_count": 44,
   "metadata": {},
   "outputs": [
    {
     "name": "stdout",
     "output_type": "stream",
     "text": [
      "              precision    recall  f1-score   support\n",
      "\n",
      "      female       0.00      0.00      0.00         2\n",
      "\n",
      "   micro avg       0.00      0.00      0.00         2\n",
      "   macro avg       0.00      0.00      0.00         2\n",
      "weighted avg       0.00      0.00      0.00         2\n",
      "\n"
     ]
    },
    {
     "name": "stderr",
     "output_type": "stream",
     "text": [
      "c:\\Users\\harleyquinn\\AppData\\Local\\Programs\\Python\\Python310\\lib\\site-packages\\sklearn\\metrics\\_classification.py:1327: UndefinedMetricWarning: Precision and F-score are ill-defined and being set to 0.0 due to no predicted samples. Use `zero_division` parameter to control this behavior.\n",
      "  _warn_prf(average, modifier, msg_start, len(result))\n",
      "c:\\Users\\harleyquinn\\AppData\\Local\\Programs\\Python\\Python310\\lib\\site-packages\\sklearn\\metrics\\_classification.py:1327: UndefinedMetricWarning: Precision and F-score are ill-defined and being set to 0.0 due to no predicted samples. Use `zero_division` parameter to control this behavior.\n",
      "  _warn_prf(average, modifier, msg_start, len(result))\n",
      "c:\\Users\\harleyquinn\\AppData\\Local\\Programs\\Python\\Python310\\lib\\site-packages\\sklearn\\metrics\\_classification.py:1327: UndefinedMetricWarning: Precision and F-score are ill-defined and being set to 0.0 due to no predicted samples. Use `zero_division` parameter to control this behavior.\n",
      "  _warn_prf(average, modifier, msg_start, len(result))\n",
      "c:\\Users\\harleyquinn\\AppData\\Local\\Programs\\Python\\Python310\\lib\\site-packages\\sklearn\\metrics\\_classification.py:1327: UndefinedMetricWarning: Precision and F-score are ill-defined and being set to 0.0 due to no predicted samples. Use `zero_division` parameter to control this behavior.\n",
      "  _warn_prf(average, modifier, msg_start, len(result))\n"
     ]
    }
   ],
   "source": [
    "print(classification_report(y_pred=per.predict(X_test), y_true=y_test, labels=new_classes))"
   ]
  }
 ],
 "metadata": {
  "kernelspec": {
   "display_name": "Python 3.10.7 64-bit",
   "language": "python",
   "name": "python3"
  },
  "language_info": {
   "codemirror_mode": {
    "name": "ipython",
    "version": 3
   },
   "file_extension": ".py",
   "mimetype": "text/x-python",
   "name": "python",
   "nbconvert_exporter": "python",
   "pygments_lexer": "ipython3",
   "version": "3.10.7"
  },
  "orig_nbformat": 4,
  "vscode": {
   "interpreter": {
    "hash": "7eba179febd1df339962bc2278d8f1d5abecbc8e4bab0c957b2dbac0d3b4983e"
   }
  }
 },
 "nbformat": 4,
 "nbformat_minor": 2
}
