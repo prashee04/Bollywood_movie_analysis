{
 "cells": [
  {
   "cell_type": "markdown",
   "metadata": {},
   "source": [
    "Comparison of mentions centrality between male and female"
   ]
  },
  {
   "cell_type": "code",
   "execution_count": 5,
   "metadata": {},
   "outputs": [],
   "source": [
    "import numpy as np\n",
    "import pandas as pd\n",
    "import matplotlib as mpl\n",
    "import matplotlib.pyplot as plt\n",
    "%matplotlib inline"
   ]
  },
  {
   "cell_type": "code",
   "execution_count": 6,
   "metadata": {},
   "outputs": [
    {
     "data": {
      "text/plain": [
       "'c:\\\\Users\\\\harleyquinn\\\\Documents\\\\GitHub\\\\Bollywood_movie_analysis\\\\wikipedia-data'"
      ]
     },
     "execution_count": 6,
     "metadata": {},
     "output_type": "execute_result"
    }
   ],
   "source": [
    "import os\n",
    "os.getcwd()\n"
   ]
  },
  {
   "cell_type": "code",
   "execution_count": 7,
   "metadata": {},
   "outputs": [],
   "source": [
    "os.chdir(\"c:\\\\Users\\\\harleyquinn\\\\Documents\\\\GitHub\\\\Bollywood_movie_analysis\\\\wikipedia-data\")"
   ]
  },
  {
   "cell_type": "code",
   "execution_count": 8,
   "metadata": {},
   "outputs": [],
   "source": [
    "df =pd.read_csv(\"female_mentions_centrality.csv\")\n",
    "df2 =pd.read_csv(\"male_mentions_centrality.csv\")"
   ]
  },
  {
   "cell_type": "code",
   "execution_count": 9,
   "metadata": {},
   "outputs": [
    {
     "data": {
      "text/html": [
       "<div>\n",
       "<style scoped>\n",
       "    .dataframe tbody tr th:only-of-type {\n",
       "        vertical-align: middle;\n",
       "    }\n",
       "\n",
       "    .dataframe tbody tr th {\n",
       "        vertical-align: top;\n",
       "    }\n",
       "\n",
       "    .dataframe thead th {\n",
       "        text-align: right;\n",
       "    }\n",
       "</style>\n",
       "<table border=\"1\" class=\"dataframe\">\n",
       "  <thead>\n",
       "    <tr style=\"text-align: right;\">\n",
       "      <th></th>\n",
       "      <th>MOVIE NAME</th>\n",
       "      <th>CAST</th>\n",
       "      <th>MENTIONS</th>\n",
       "      <th>TOTAL CENTRALITY</th>\n",
       "      <th>COUNT</th>\n",
       "      <th>AVERAGE CENTRALITY</th>\n",
       "    </tr>\n",
       "  </thead>\n",
       "  <tbody>\n",
       "    <tr>\n",
       "      <th>0</th>\n",
       "      <td>Aan Milo Sajna</td>\n",
       "      <td>woman</td>\n",
       "      <td>2.0</td>\n",
       "      <td>222.500000</td>\n",
       "      <td>12.0</td>\n",
       "      <td>18.541667</td>\n",
       "    </tr>\n",
       "    <tr>\n",
       "      <th>1</th>\n",
       "      <td>Aan Milo Sajna</td>\n",
       "      <td>savitri</td>\n",
       "      <td>11.0</td>\n",
       "      <td>868.166667</td>\n",
       "      <td>131.0</td>\n",
       "      <td>6.627226</td>\n",
       "    </tr>\n",
       "    <tr>\n",
       "      <th>2</th>\n",
       "      <td>Aan Milo Sajna</td>\n",
       "      <td>deepali</td>\n",
       "      <td>4.0</td>\n",
       "      <td>0.000000</td>\n",
       "      <td>89.0</td>\n",
       "      <td>0.000000</td>\n",
       "    </tr>\n",
       "    <tr>\n",
       "      <th>3</th>\n",
       "      <td>Abhinetri</td>\n",
       "      <td>anjana</td>\n",
       "      <td>9.0</td>\n",
       "      <td>319.000000</td>\n",
       "      <td>79.0</td>\n",
       "      <td>4.037975</td>\n",
       "    </tr>\n",
       "    <tr>\n",
       "      <th>4</th>\n",
       "      <td>Aag Aur Shola</td>\n",
       "      <td>usha</td>\n",
       "      <td>6.0</td>\n",
       "      <td>48.000000</td>\n",
       "      <td>54.0</td>\n",
       "      <td>0.888889</td>\n",
       "    </tr>\n",
       "  </tbody>\n",
       "</table>\n",
       "</div>"
      ],
      "text/plain": [
       "       MOVIE NAME     CAST  MENTIONS  TOTAL CENTRALITY  COUNT  \\\n",
       "0  Aan Milo Sajna    woman       2.0        222.500000   12.0   \n",
       "1  Aan Milo Sajna  savitri      11.0        868.166667  131.0   \n",
       "2  Aan Milo Sajna  deepali       4.0          0.000000   89.0   \n",
       "3       Abhinetri   anjana       9.0        319.000000   79.0   \n",
       "4   Aag Aur Shola     usha       6.0         48.000000   54.0   \n",
       "\n",
       "   AVERAGE CENTRALITY  \n",
       "0           18.541667  \n",
       "1            6.627226  \n",
       "2            0.000000  \n",
       "3            4.037975  \n",
       "4            0.888889  "
      ]
     },
     "execution_count": 9,
     "metadata": {},
     "output_type": "execute_result"
    }
   ],
   "source": [
    "df.head()"
   ]
  },
  {
   "cell_type": "code",
   "execution_count": 10,
   "metadata": {},
   "outputs": [
    {
     "data": {
      "text/plain": [
       "MOVIE NAME                      <class 'str'>\n",
       "CAST                            <class 'str'>\n",
       "MENTIONS              <class 'numpy.float64'>\n",
       "TOTAL CENTRALITY      <class 'numpy.float64'>\n",
       "COUNT                 <class 'numpy.float64'>\n",
       "AVERAGE CENTRALITY    <class 'numpy.float64'>\n",
       "Name: 0, dtype: object"
      ]
     },
     "execution_count": 10,
     "metadata": {},
     "output_type": "execute_result"
    }
   ],
   "source": [
    "df.iloc[0].apply(type)"
   ]
  },
  {
   "cell_type": "code",
   "execution_count": 11,
   "metadata": {},
   "outputs": [],
   "source": [
    "df=df.fillna(0)"
   ]
  },
  {
   "cell_type": "code",
   "execution_count": 12,
   "metadata": {},
   "outputs": [
    {
     "data": {
      "text/html": [
       "<div>\n",
       "<style scoped>\n",
       "    .dataframe tbody tr th:only-of-type {\n",
       "        vertical-align: middle;\n",
       "    }\n",
       "\n",
       "    .dataframe tbody tr th {\n",
       "        vertical-align: top;\n",
       "    }\n",
       "\n",
       "    .dataframe thead th {\n",
       "        text-align: right;\n",
       "    }\n",
       "</style>\n",
       "<table border=\"1\" class=\"dataframe\">\n",
       "  <thead>\n",
       "    <tr style=\"text-align: right;\">\n",
       "      <th></th>\n",
       "      <th>MOVIE NAME</th>\n",
       "      <th>CAST</th>\n",
       "      <th>MENTIONS</th>\n",
       "      <th>TOTAL CENTRALITY</th>\n",
       "      <th>COUNT</th>\n",
       "      <th>AVERAGE CENTRALITY</th>\n",
       "    </tr>\n",
       "  </thead>\n",
       "  <tbody>\n",
       "    <tr>\n",
       "      <th>0</th>\n",
       "      <td>Aan Milo Sajna</td>\n",
       "      <td>woman</td>\n",
       "      <td>2.0</td>\n",
       "      <td>222.500000</td>\n",
       "      <td>12.0</td>\n",
       "      <td>18.541667</td>\n",
       "    </tr>\n",
       "    <tr>\n",
       "      <th>1</th>\n",
       "      <td>Aan Milo Sajna</td>\n",
       "      <td>savitri</td>\n",
       "      <td>11.0</td>\n",
       "      <td>868.166667</td>\n",
       "      <td>131.0</td>\n",
       "      <td>6.627226</td>\n",
       "    </tr>\n",
       "    <tr>\n",
       "      <th>2</th>\n",
       "      <td>Aan Milo Sajna</td>\n",
       "      <td>deepali</td>\n",
       "      <td>4.0</td>\n",
       "      <td>0.000000</td>\n",
       "      <td>89.0</td>\n",
       "      <td>0.000000</td>\n",
       "    </tr>\n",
       "    <tr>\n",
       "      <th>3</th>\n",
       "      <td>Abhinetri</td>\n",
       "      <td>anjana</td>\n",
       "      <td>9.0</td>\n",
       "      <td>319.000000</td>\n",
       "      <td>79.0</td>\n",
       "      <td>4.037975</td>\n",
       "    </tr>\n",
       "    <tr>\n",
       "      <th>4</th>\n",
       "      <td>Aag Aur Shola</td>\n",
       "      <td>usha</td>\n",
       "      <td>6.0</td>\n",
       "      <td>48.000000</td>\n",
       "      <td>54.0</td>\n",
       "      <td>0.888889</td>\n",
       "    </tr>\n",
       "    <tr>\n",
       "      <th>...</th>\n",
       "      <td>...</td>\n",
       "      <td>...</td>\n",
       "      <td>...</td>\n",
       "      <td>...</td>\n",
       "      <td>...</td>\n",
       "      <td>...</td>\n",
       "    </tr>\n",
       "    <tr>\n",
       "      <th>5043</th>\n",
       "      <td>Rab Ne Bana Di Jodi</td>\n",
       "      <td>daughter</td>\n",
       "      <td>1.0</td>\n",
       "      <td>243.000000</td>\n",
       "      <td>19.0</td>\n",
       "      <td>12.789474</td>\n",
       "    </tr>\n",
       "    <tr>\n",
       "      <th>5044</th>\n",
       "      <td>Rab Ne Bana Di Jodi</td>\n",
       "      <td>taani</td>\n",
       "      <td>81.0</td>\n",
       "      <td>6975.333333</td>\n",
       "      <td>596.0</td>\n",
       "      <td>11.703579</td>\n",
       "    </tr>\n",
       "    <tr>\n",
       "      <th>5045</th>\n",
       "      <td>Ghajini</td>\n",
       "      <td>sunita</td>\n",
       "      <td>22.0</td>\n",
       "      <td>565.500000</td>\n",
       "      <td>242.0</td>\n",
       "      <td>2.336777</td>\n",
       "    </tr>\n",
       "    <tr>\n",
       "      <th>5046</th>\n",
       "      <td>Ghajini</td>\n",
       "      <td>kalpana</td>\n",
       "      <td>20.0</td>\n",
       "      <td>624.166667</td>\n",
       "      <td>187.0</td>\n",
       "      <td>3.337790</td>\n",
       "    </tr>\n",
       "    <tr>\n",
       "      <th>5047</th>\n",
       "      <td>Jumbo</td>\n",
       "      <td>mother</td>\n",
       "      <td>4.0</td>\n",
       "      <td>116.833333</td>\n",
       "      <td>60.0</td>\n",
       "      <td>1.947222</td>\n",
       "    </tr>\n",
       "  </tbody>\n",
       "</table>\n",
       "<p>5048 rows × 6 columns</p>\n",
       "</div>"
      ],
      "text/plain": [
       "               MOVIE NAME      CAST  MENTIONS  TOTAL CENTRALITY  COUNT  \\\n",
       "0          Aan Milo Sajna     woman       2.0        222.500000   12.0   \n",
       "1          Aan Milo Sajna   savitri      11.0        868.166667  131.0   \n",
       "2          Aan Milo Sajna   deepali       4.0          0.000000   89.0   \n",
       "3               Abhinetri    anjana       9.0        319.000000   79.0   \n",
       "4           Aag Aur Shola      usha       6.0         48.000000   54.0   \n",
       "...                   ...       ...       ...               ...    ...   \n",
       "5043  Rab Ne Bana Di Jodi  daughter       1.0        243.000000   19.0   \n",
       "5044  Rab Ne Bana Di Jodi     taani      81.0       6975.333333  596.0   \n",
       "5045              Ghajini    sunita      22.0        565.500000  242.0   \n",
       "5046              Ghajini   kalpana      20.0        624.166667  187.0   \n",
       "5047                Jumbo    mother       4.0        116.833333   60.0   \n",
       "\n",
       "      AVERAGE CENTRALITY  \n",
       "0              18.541667  \n",
       "1               6.627226  \n",
       "2               0.000000  \n",
       "3               4.037975  \n",
       "4               0.888889  \n",
       "...                  ...  \n",
       "5043           12.789474  \n",
       "5044           11.703579  \n",
       "5045            2.336777  \n",
       "5046            3.337790  \n",
       "5047            1.947222  \n",
       "\n",
       "[5048 rows x 6 columns]"
      ]
     },
     "execution_count": 12,
     "metadata": {},
     "output_type": "execute_result"
    }
   ],
   "source": [
    "df"
   ]
  },
  {
   "cell_type": "code",
   "execution_count": 13,
   "metadata": {},
   "outputs": [],
   "source": [
    "import datacompy"
   ]
  },
  {
   "cell_type": "code",
   "execution_count": 14,
   "metadata": {},
   "outputs": [],
   "source": [
    "campare = datacompy.Compare(df,df2,join_columns=\"Movie Name\")"
   ]
  },
  {
   "cell_type": "code",
   "execution_count": 15,
   "metadata": {},
   "outputs": [
    {
     "name": "stdout",
     "output_type": "stream",
     "text": [
      "DataComPy Comparison\n",
      "--------------------\n",
      "\n",
      "DataFrame Summary\n",
      "-----------------\n",
      "\n",
      "  DataFrame  Columns  Rows\n",
      "0       df1        6  5048\n",
      "1       df2        6  9353\n",
      "\n",
      "Column Summary\n",
      "--------------\n",
      "\n",
      "Number of columns in common: 6\n",
      "Number of columns in df1 but not in df2: 0\n",
      "Number of columns in df2 but not in df1: 0\n",
      "\n",
      "Row Summary\n",
      "-----------\n",
      "\n",
      "Matched on: movie name\n",
      "Any duplicates on match values: Yes\n",
      "Absolute Tolerance: 0\n",
      "Relative Tolerance: 0\n",
      "Number of rows in common: 4,244\n",
      "Number of rows in df1 but not in df2: 804\n",
      "Number of rows in df2 but not in df1: 5,109\n",
      "\n",
      "Number of rows with some compared columns unequal: 4,244\n",
      "Number of rows with all compared columns equal: 0\n",
      "\n",
      "Column Comparison\n",
      "-----------------\n",
      "\n",
      "Number of columns compared with some values unequal: 5\n",
      "Number of columns compared with all values equal: 1\n",
      "Total number of values which compare unequal: 20,117\n",
      "\n",
      "Columns with Unequal Values or Types\n",
      "------------------------------------\n",
      "\n",
      "               Column df1 dtype df2 dtype  # Unequal      Max Diff  # Null Diff\n",
      "4  average centrality   float64   float64       4132    277.065101            3\n",
      "0                cast    object    object       4244      0.000000           44\n",
      "3               count   float64   float64       4191    988.000000            3\n",
      "1            mentions   float64   float64       3419    126.000000            3\n",
      "2    total centrality   float64   float64       4131  36040.433333            3\n",
      "\n",
      "Sample Rows with Unequal Values\n",
      "-------------------------------\n",
      "\n",
      "                    movie name cast (df1) cast (df2)\n",
      "4061             88 Antop Hill      menon          a\n",
      "4825  Life Mein Kabhie Kabhiee     monica      mohit\n",
      "543                       Raja      madhu      birju\n",
      "2235                    Maqsad       girl    dhanraj\n",
      "1656                Khoobsurat      manju       mili\n",
      "3937      Awara Paagal Deewana     preeti       guru\n",
      "1752          Ek Duuje Ke Liye      sapna       vasu\n",
      "4775                      Dhol       ritu     gautam\n",
      "2568         Main Tera Dushman       jaya     dayalu\n",
      "1824               Naram Garam     mother     prasad\n",
      "\n",
      "                movie name  mentions (df1)  mentions (df2)\n",
      "427               Prem Yog             3.0             2.0\n",
      "1136         Prem Kaa Game             2.0             4.0\n",
      "2913          Dil Ki Baazi             2.0             1.0\n",
      "4697              Tathastu             7.0             4.0\n",
      "278                Anamika             2.0             0.0\n",
      "12        Aisa Pyaar Kahan             2.0            10.0\n",
      "1868               Silsila            18.0             6.0\n",
      "3881       Bajirao Mastani             4.0            59.0\n",
      "413                Zanjeer            26.0             6.0\n",
      "4152  Kash Aap Hamare Hote             2.0            26.0\n",
      "\n",
      "           movie name  total centrality (df1)  total centrality (df2)\n",
      "1250  Anjaana Anjaani              680.000000               80.666667\n",
      "1036        Damadamm!               25.000000             1472.000000\n",
      "2592        Agneekaal             1425.000000                0.000000\n",
      "357       Heera Panna               34.000000               13.000000\n",
      "2503   Bees Saal Baad              822.500000              173.000000\n",
      "3631             Mela             2657.583333               52.166667\n",
      "5045          Ghajini              565.500000               15.000000\n",
      "956       Bheja Fry 2               90.000000                7.000000\n",
      "2335        Meri Jung              291.833333              408.000000\n",
      "236   Gomti Ke Kinare              154.000000                0.000000\n",
      "\n",
      "                  movie name  count (df1)  count (df2)\n",
      "2958              Prateeksha         97.0         23.0\n",
      "2375  Half Girlfriend (film)          9.0         31.0\n",
      "3402       Aa Ab Laut Chalen        118.0         86.0\n",
      "3265                Hameshaa        337.0         44.0\n",
      "4676   Pyaar Ke Side Effects        123.0        161.0\n",
      "2332               Meri Jung         37.0          0.0\n",
      "1466                     Paa        224.0          7.0\n",
      "1459                 Kurbaan         78.0         70.0\n",
      "3449      Hindustan Ki Kasam         81.0         25.0\n",
      "3203              Agnichakra         14.0        797.0\n",
      "\n",
      "                               movie name  average centrality (df1)  average centrality (df2)\n",
      "1685                       Happy New Year                  0.401361                  0.617021\n",
      "2209                                Abodh                  3.111111                  2.400000\n",
      "3054                        Kapoor & Sons                  2.165301                  1.328947\n",
      "1005                        Speedy Singhs                  3.142857                  0.365854\n",
      "322                              Do Phool                  3.923077                  7.179012\n",
      "4217          Talaash: The Hunt Begins...                  4.374429                  0.000000\n",
      "4176  Matrubhoomi: A Nation Without Women                 16.150000                  1.250000\n",
      "3712                               Albela                  3.886076                  5.749855\n",
      "1694                               Sitara                  0.000000                  0.675676\n",
      "4820                      Life in a Metro                  2.346045                  2.717054\n",
      "\n",
      "Sample Rows Only in df1 (First 10 Columns)\n",
      "------------------------------------------\n",
      "\n",
      "                     movie name      cast  mentions  total centrality  count  average centrality\n",
      "16                 Amrit (film)     kamla      18.0       1007.666667  165.0            6.107071\n",
      "1022  Mujhse Fraaandship Karoge      girl       0.0          0.000000    0.0            0.000000\n",
      "2109            Aao Pyaar Karen       rai       2.0        108.000000    9.0           12.000000\n",
      "354                Hanste Zakhm  daughter       7.0        164.000000   53.0            3.094340\n",
      "1618                      Pizza  daughter       2.0         38.000000   27.0            1.407407\n",
      "1944                       Arth      girl       0.0        435.000000   30.0           14.500000\n",
      "1697                     Sparsh     woman       0.0         84.000000   10.0            8.400000\n",
      "2555                  ChaalBaaz      anju       5.0        169.000000   43.0            3.930233\n",
      "4526                  Silsiilay     divya       4.0         33.000000   23.0            1.434783\n",
      "2194                    Romance  daughter       2.0         20.000000    9.0            2.222222\n",
      "\n",
      "Sample Rows Only in df2 (First 10 Columns)\n",
      "------------------------------------------\n",
      "\n",
      "                     movie name      cast  mentions  total centrality  count  average centrality\n",
      "8309                    Dishoom  shergill       1.0         30.000000    8.0            3.750000\n",
      "6202                Peepli Live    rakesh       7.0        321.333333   98.0            3.278912\n",
      "7586                      Vijay    father       0.0        227.000000   37.0            6.135135\n",
      "6492  Humpty Sharma Ki Dulhania    humpty      32.0        518.250000  286.0            1.812063\n",
      "8421               Dear Zindagi      rumi       4.0          0.000000   31.0            0.000000\n",
      "5874                      Alaap   triloki       5.0        559.666667  130.0            4.305128\n",
      "5943                    Shagird  hanumant      63.0       3877.566667  475.0            8.163298\n",
      "7801                 Prem Qaidi   chandra       6.0        218.000000   64.0            3.406250\n",
      "7866                    Deewana    pratap       9.0        846.000000   76.0           11.131579\n",
      "8545                    Bandhan     jyoti       9.0        335.000000  105.0            3.190476\n",
      "\n",
      "\n"
     ]
    }
   ],
   "source": [
    "print(campare.report())"
   ]
  },
  {
   "cell_type": "code",
   "execution_count": 16,
   "metadata": {},
   "outputs": [
    {
     "name": "stdout",
     "output_type": "stream",
     "text": [
      "<class 'pandas.core.frame.DataFrame'>\n",
      "RangeIndex: 5048 entries, 0 to 5047\n",
      "Data columns (total 6 columns):\n",
      " #   Column              Non-Null Count  Dtype  \n",
      "---  ------              --------------  -----  \n",
      " 0   movie name          5048 non-null   object \n",
      " 1   cast                5048 non-null   object \n",
      " 2   mentions            5048 non-null   float64\n",
      " 3   total centrality    5048 non-null   float64\n",
      " 4   count               5048 non-null   float64\n",
      " 5   average centrality  5048 non-null   float64\n",
      "dtypes: float64(4), object(2)\n",
      "memory usage: 236.8+ KB\n"
     ]
    }
   ],
   "source": [
    "df.info()"
   ]
  },
  {
   "cell_type": "code",
   "execution_count": 17,
   "metadata": {},
   "outputs": [],
   "source": [
    "#df.loc[\"count\"].plot(kind='hist')"
   ]
  },
  {
   "cell_type": "code",
   "execution_count": 18,
   "metadata": {},
   "outputs": [
    {
     "data": {
      "image/png": "[encoded data removed]",
      "text/plain": [
       "<Figure size 432x288 with 1 Axes>"
      ]
     },
     "metadata": {
      "needs_background": "light"
     },
     "output_type": "display_data"
    }
   ],
   "source": [
    "df.plot(kind = \"bar\", x = 'count', y = 'total centrality')\n",
    "\n",
    "plt.show()"
   ]
  },
  {
   "cell_type": "code",
   "execution_count": 19,
   "metadata": {},
   "outputs": [
    {
     "data": {
      "image/png": "[encoded data removed]",
      "text/plain": [
       "<Figure size 432x288 with 1 Axes>"
      ]
     },
     "metadata": {
      "needs_background": "light"
     },
     "output_type": "display_data"
    },
    {
     "data": {
      "image/png": "[encoded data removed]",
      "text/plain": [
       "<Figure size 432x288 with 1 Axes>"
      ]
     },
     "metadata": {
      "needs_background": "light"
     },
     "output_type": "display_data"
    }
   ],
   "source": [
    "df.plot(kind = \"hist\", x = 'count')\n",
    "df2.plot(kind = \"hist\", x = 'count')\n",
    "plt.show()"
   ]
  }
 ],
 "metadata": {
  "kernelspec": {
   "display_name": "Python 3 (ipykernel)",
   "language": "python",
   "name": "python3"
  },
  "language_info": {
   "codemirror_mode": {
    "name": "ipython",
    "version": 3
   },
   "file_extension": ".py",
   "mimetype": "text/x-python",
   "name": "python",
   "nbconvert_exporter": "python",
   "pygments_lexer": "ipython3",
   "version": "3.10.7"
  },
  "vscode": {
   "interpreter": {
    "hash": "7eba179febd1df339962bc2278d8f1d5abecbc8e4bab0c957b2dbac0d3b4983e"
   }
  }
 },
 "nbformat": 4,
 "nbformat_minor": 2
}
